{
 "cells": [
  {
   "cell_type": "markdown",
   "id": "e6d4b7de",
   "metadata": {},
   "source": [
    "Versuch mit Lasso regression"
   ]
  },
  {
   "cell_type": "code",
   "execution_count": 6,
   "id": "a786461b",
   "metadata": {},
   "outputs": [],
   "source": [
    "from sklearn.metrics import mean_squared_error\n",
    "import numpy as np\n",
    "import pandas as pd\n",
    "\n",
    "from sklearn.model_selection import KFold \n",
    "from sklearn.linear_model import Ridge\n",
    "from sklearn.metrics import mean_squared_error\n",
    "from sklearn.preprocessing import FunctionTransformer\n",
    "from sklearn.model_selection import GridSearchCV\n",
    "from sklearn.linear_model import LinearRegression\n",
    "from sklearn.model_selection import train_test_split\n",
    "from sklearn.linear_model import LassoCV\n",
    "from sklearn.datasets import make_regression\n",
    "\n",
    "\n",
    "device = 'cpu'\n"
   ]
  },
  {
   "cell_type": "code",
   "execution_count": 7,
   "id": "ca3426d4",
   "metadata": {},
   "outputs": [
    {
     "name": "stdout",
     "output_type": "stream",
     "text": [
      "(700, 5)\n",
      "(700,)\n"
     ]
    }
   ],
   "source": [
    "train = pd.read_csv(r'C:\\Users\\erics\\Documents\\Programme\\IntroML\\Task1\\task1b_ql4jfi6af0\\train.csv')\n",
    "\n",
    "X = train.iloc[:,2:]\n",
    "y = train.iloc[:,1]\n",
    "ID = train.iloc[:,0]\n",
    "pd.set_option(\"display.precision\", 7)\n",
    "#print(X)\n",
    "#print(y)\n",
    "print(X.shape)\n",
    "print(y.shape)"
   ]
  },
  {
   "cell_type": "code",
   "execution_count": 8,
   "id": "b7a811ad",
   "metadata": {},
   "outputs": [],
   "source": [
    "def transform(X):\n",
    "    l1 = X\n",
    "    l2 = X*X\n",
    "    l3 = np.exp(X)\n",
    "    l4 = np.cos(X)\n",
    "    const = np.ones((X.shape[0],1))\n",
    "    return np.concatenate((l1, l2, l3, l4, const), axis=1)"
   ]
  },
  {
   "cell_type": "code",
   "execution_count": 9,
   "id": "704805c8",
   "metadata": {},
   "outputs": [
    {
     "name": "stdout",
     "output_type": "stream",
     "text": [
      "(700, 21)\n"
     ]
    }
   ],
   "source": [
    "transformer = FunctionTransformer(transform, validate=True)\n",
    "X_trans = transformer.transform(X)\n",
    "print(X_trans.shape)"
   ]
  },
  {
   "cell_type": "code",
   "execution_count": 15,
   "id": "a8758395",
   "metadata": {},
   "outputs": [],
   "source": [
    "X_train, X_test, y_train, y_test = train_test_split( X_trans, Y, test_size=0.15, random_state=42)"
   ]
  },
  {
   "cell_type": "code",
   "execution_count": null,
   "id": "55a04750",
   "metadata": {},
   "outputs": [],
   "source": []
  },
  {
   "cell_type": "code",
   "execution_count": 19,
   "id": "27801b71",
   "metadata": {},
   "outputs": [
    {
     "name": "stdout",
     "output_type": "stream",
     "text": [
      "0.02039867417659813\n",
      "0.0026474572766779225\n"
     ]
    },
    {
     "name": "stderr",
     "output_type": "stream",
     "text": [
      "C:\\Users\\erics\\anaconda3\\envs\\IML\\lib\\site-packages\\sklearn\\linear_model\\_coordinate_descent.py:525: ConvergenceWarning: Objective did not converge. You might want to increase the number of iterations. Duality gap: 0.29154203575672, tolerance: 0.18098415703577897\n",
      "  model = cd_fast.enet_coordinate_descent_gram(\n",
      "C:\\Users\\erics\\anaconda3\\envs\\IML\\lib\\site-packages\\sklearn\\linear_model\\_coordinate_descent.py:525: ConvergenceWarning: Objective did not converge. You might want to increase the number of iterations. Duality gap: 10.495288680467866, tolerance: 0.18098415703577897\n",
      "  model = cd_fast.enet_coordinate_descent_gram(\n",
      "C:\\Users\\erics\\anaconda3\\envs\\IML\\lib\\site-packages\\sklearn\\linear_model\\_coordinate_descent.py:525: ConvergenceWarning: Objective did not converge. You might want to increase the number of iterations. Duality gap: 30.604150664798908, tolerance: 0.18098415703577897\n",
      "  model = cd_fast.enet_coordinate_descent_gram(\n",
      "C:\\Users\\erics\\anaconda3\\envs\\IML\\lib\\site-packages\\sklearn\\linear_model\\_coordinate_descent.py:525: ConvergenceWarning: Objective did not converge. You might want to increase the number of iterations. Duality gap: 56.28772380162695, tolerance: 0.18098415703577897\n",
      "  model = cd_fast.enet_coordinate_descent_gram(\n",
      "C:\\Users\\erics\\anaconda3\\envs\\IML\\lib\\site-packages\\sklearn\\linear_model\\_coordinate_descent.py:525: ConvergenceWarning: Objective did not converge. You might want to increase the number of iterations. Duality gap: 84.8885842007885, tolerance: 0.18098415703577897\n",
      "  model = cd_fast.enet_coordinate_descent_gram(\n",
      "C:\\Users\\erics\\anaconda3\\envs\\IML\\lib\\site-packages\\sklearn\\linear_model\\_coordinate_descent.py:525: ConvergenceWarning: Objective did not converge. You might want to increase the number of iterations. Duality gap: 3.219970761350396, tolerance: 0.18098415703577897\n",
      "  model = cd_fast.enet_coordinate_descent_gram(\n",
      "C:\\Users\\erics\\anaconda3\\envs\\IML\\lib\\site-packages\\sklearn\\linear_model\\_coordinate_descent.py:525: ConvergenceWarning: Objective did not converge. You might want to increase the number of iterations. Duality gap: 32.379043085104286, tolerance: 0.18098415703577897\n",
      "  model = cd_fast.enet_coordinate_descent_gram(\n",
      "C:\\Users\\erics\\anaconda3\\envs\\IML\\lib\\site-packages\\sklearn\\linear_model\\_coordinate_descent.py:525: ConvergenceWarning: Objective did not converge. You might want to increase the number of iterations. Duality gap: 75.59518728211333, tolerance: 0.18098415703577897\n",
      "  model = cd_fast.enet_coordinate_descent_gram(\n",
      "C:\\Users\\erics\\anaconda3\\envs\\IML\\lib\\site-packages\\sklearn\\linear_model\\_coordinate_descent.py:525: ConvergenceWarning: Objective did not converge. You might want to increase the number of iterations. Duality gap: 122.78892426179982, tolerance: 0.18098415703577897\n",
      "  model = cd_fast.enet_coordinate_descent_gram(\n",
      "C:\\Users\\erics\\anaconda3\\envs\\IML\\lib\\site-packages\\sklearn\\linear_model\\_coordinate_descent.py:525: ConvergenceWarning: Objective did not converge. You might want to increase the number of iterations. Duality gap: 169.56407454023633, tolerance: 0.18098415703577897\n",
      "  model = cd_fast.enet_coordinate_descent_gram(\n",
      "C:\\Users\\erics\\anaconda3\\envs\\IML\\lib\\site-packages\\sklearn\\linear_model\\_coordinate_descent.py:525: ConvergenceWarning: Objective did not converge. You might want to increase the number of iterations. Duality gap: 214.81947384790465, tolerance: 0.18098415703577897\n",
      "  model = cd_fast.enet_coordinate_descent_gram(\n",
      "C:\\Users\\erics\\anaconda3\\envs\\IML\\lib\\site-packages\\sklearn\\linear_model\\_coordinate_descent.py:525: ConvergenceWarning: Objective did not converge. You might want to increase the number of iterations. Duality gap: 259.9369087115641, tolerance: 0.18098415703577897\n",
      "  model = cd_fast.enet_coordinate_descent_gram(\n",
      "C:\\Users\\erics\\anaconda3\\envs\\IML\\lib\\site-packages\\sklearn\\linear_model\\_coordinate_descent.py:525: ConvergenceWarning: Objective did not converge. You might want to increase the number of iterations. Duality gap: 300.8857171538924, tolerance: 0.18098415703577897\n",
      "  model = cd_fast.enet_coordinate_descent_gram(\n",
      "C:\\Users\\erics\\anaconda3\\envs\\IML\\lib\\site-packages\\sklearn\\linear_model\\_coordinate_descent.py:525: ConvergenceWarning: Objective did not converge. You might want to increase the number of iterations. Duality gap: 337.91558013910753, tolerance: 0.18098415703577897\n",
      "  model = cd_fast.enet_coordinate_descent_gram(\n",
      "C:\\Users\\erics\\anaconda3\\envs\\IML\\lib\\site-packages\\sklearn\\linear_model\\_coordinate_descent.py:525: ConvergenceWarning: Objective did not converge. You might want to increase the number of iterations. Duality gap: 371.38933658595647, tolerance: 0.18098415703577897\n",
      "  model = cd_fast.enet_coordinate_descent_gram(\n",
      "C:\\Users\\erics\\anaconda3\\envs\\IML\\lib\\site-packages\\sklearn\\linear_model\\_coordinate_descent.py:525: ConvergenceWarning: Objective did not converge. You might want to increase the number of iterations. Duality gap: 401.68920696617147, tolerance: 0.18098415703577897\n",
      "  model = cd_fast.enet_coordinate_descent_gram(\n",
      "C:\\Users\\erics\\anaconda3\\envs\\IML\\lib\\site-packages\\sklearn\\linear_model\\_coordinate_descent.py:525: ConvergenceWarning: Objective did not converge. You might want to increase the number of iterations. Duality gap: 429.1775402804434, tolerance: 0.18098415703577897\n",
      "  model = cd_fast.enet_coordinate_descent_gram(\n",
      "C:\\Users\\erics\\anaconda3\\envs\\IML\\lib\\site-packages\\sklearn\\linear_model\\_coordinate_descent.py:525: ConvergenceWarning: Objective did not converge. You might want to increase the number of iterations. Duality gap: 454.1822371724442, tolerance: 0.18098415703577897\n",
      "  model = cd_fast.enet_coordinate_descent_gram(\n",
      "C:\\Users\\erics\\anaconda3\\envs\\IML\\lib\\site-packages\\sklearn\\linear_model\\_coordinate_descent.py:525: ConvergenceWarning: Objective did not converge. You might want to increase the number of iterations. Duality gap: 476.9933321005109, tolerance: 0.18098415703577897\n",
      "  model = cd_fast.enet_coordinate_descent_gram(\n",
      "C:\\Users\\erics\\anaconda3\\envs\\IML\\lib\\site-packages\\sklearn\\linear_model\\_coordinate_descent.py:525: ConvergenceWarning: Objective did not converge. You might want to increase the number of iterations. Duality gap: 6.478557360647983, tolerance: 0.19492527045567665\n",
      "  model = cd_fast.enet_coordinate_descent_gram(\n",
      "C:\\Users\\erics\\anaconda3\\envs\\IML\\lib\\site-packages\\sklearn\\linear_model\\_coordinate_descent.py:525: ConvergenceWarning: Objective did not converge. You might want to increase the number of iterations. Duality gap: 25.59092528068254, tolerance: 0.19492527045567665\n",
      "  model = cd_fast.enet_coordinate_descent_gram(\n",
      "C:\\Users\\erics\\anaconda3\\envs\\IML\\lib\\site-packages\\sklearn\\linear_model\\_coordinate_descent.py:525: ConvergenceWarning: Objective did not converge. You might want to increase the number of iterations. Duality gap: 52.17464032849807, tolerance: 0.19492527045567665\n",
      "  model = cd_fast.enet_coordinate_descent_gram(\n",
      "C:\\Users\\erics\\anaconda3\\envs\\IML\\lib\\site-packages\\sklearn\\linear_model\\_coordinate_descent.py:525: ConvergenceWarning: Objective did not converge. You might want to increase the number of iterations. Duality gap: 83.00764125111095, tolerance: 0.19492527045567665\n",
      "  model = cd_fast.enet_coordinate_descent_gram(\n",
      "C:\\Users\\erics\\anaconda3\\envs\\IML\\lib\\site-packages\\sklearn\\linear_model\\_coordinate_descent.py:525: ConvergenceWarning: Objective did not converge. You might want to increase the number of iterations. Duality gap: 116.00501383196342, tolerance: 0.19492527045567665\n",
      "  model = cd_fast.enet_coordinate_descent_gram(\n",
      "C:\\Users\\erics\\anaconda3\\envs\\IML\\lib\\site-packages\\sklearn\\linear_model\\_coordinate_descent.py:525: ConvergenceWarning: Objective did not converge. You might want to increase the number of iterations. Duality gap: 149.82228705034117, tolerance: 0.19492527045567665\n",
      "  model = cd_fast.enet_coordinate_descent_gram(\n",
      "C:\\Users\\erics\\anaconda3\\envs\\IML\\lib\\site-packages\\sklearn\\linear_model\\_coordinate_descent.py:525: ConvergenceWarning: Objective did not converge. You might want to increase the number of iterations. Duality gap: 0.9957517649618239, tolerance: 0.19492527045567665\n",
      "  model = cd_fast.enet_coordinate_descent_gram(\n",
      "C:\\Users\\erics\\anaconda3\\envs\\IML\\lib\\site-packages\\sklearn\\linear_model\\_coordinate_descent.py:525: ConvergenceWarning: Objective did not converge. You might want to increase the number of iterations. Duality gap: 15.9521540901344, tolerance: 0.19492527045567665\n",
      "  model = cd_fast.enet_coordinate_descent_gram(\n",
      "C:\\Users\\erics\\anaconda3\\envs\\IML\\lib\\site-packages\\sklearn\\linear_model\\_coordinate_descent.py:525: ConvergenceWarning: Objective did not converge. You might want to increase the number of iterations. Duality gap: 57.22695883680717, tolerance: 0.19492527045567665\n",
      "  model = cd_fast.enet_coordinate_descent_gram(\n",
      "C:\\Users\\erics\\anaconda3\\envs\\IML\\lib\\site-packages\\sklearn\\linear_model\\_coordinate_descent.py:525: ConvergenceWarning: Objective did not converge. You might want to increase the number of iterations. Duality gap: 107.76940344511377, tolerance: 0.19492527045567665\n",
      "  model = cd_fast.enet_coordinate_descent_gram(\n",
      "C:\\Users\\erics\\anaconda3\\envs\\IML\\lib\\site-packages\\sklearn\\linear_model\\_coordinate_descent.py:525: ConvergenceWarning: Objective did not converge. You might want to increase the number of iterations. Duality gap: 160.16301299689417, tolerance: 0.19492527045567665\n",
      "  model = cd_fast.enet_coordinate_descent_gram(\n",
      "C:\\Users\\erics\\anaconda3\\envs\\IML\\lib\\site-packages\\sklearn\\linear_model\\_coordinate_descent.py:525: ConvergenceWarning: Objective did not converge. You might want to increase the number of iterations. Duality gap: 211.09747694113923, tolerance: 0.19492527045567665\n",
      "  model = cd_fast.enet_coordinate_descent_gram(\n",
      "C:\\Users\\erics\\anaconda3\\envs\\IML\\lib\\site-packages\\sklearn\\linear_model\\_coordinate_descent.py:525: ConvergenceWarning: Objective did not converge. You might want to increase the number of iterations. Duality gap: 259.15424582295304, tolerance: 0.19492527045567665\n",
      "  model = cd_fast.enet_coordinate_descent_gram(\n",
      "C:\\Users\\erics\\anaconda3\\envs\\IML\\lib\\site-packages\\sklearn\\linear_model\\_coordinate_descent.py:525: ConvergenceWarning: Objective did not converge. You might want to increase the number of iterations. Duality gap: 303.81989815443944, tolerance: 0.19492527045567665\n",
      "  model = cd_fast.enet_coordinate_descent_gram(\n",
      "C:\\Users\\erics\\anaconda3\\envs\\IML\\lib\\site-packages\\sklearn\\linear_model\\_coordinate_descent.py:525: ConvergenceWarning: Objective did not converge. You might want to increase the number of iterations. Duality gap: 345.0185366241508, tolerance: 0.19492527045567665\n",
      "  model = cd_fast.enet_coordinate_descent_gram(\n",
      "C:\\Users\\erics\\anaconda3\\envs\\IML\\lib\\site-packages\\sklearn\\linear_model\\_coordinate_descent.py:525: ConvergenceWarning: Objective did not converge. You might want to increase the number of iterations. Duality gap: 382.8815610800518, tolerance: 0.19492527045567665\n",
      "  model = cd_fast.enet_coordinate_descent_gram(\n",
      "C:\\Users\\erics\\anaconda3\\envs\\IML\\lib\\site-packages\\sklearn\\linear_model\\_coordinate_descent.py:525: ConvergenceWarning: Objective did not converge. You might want to increase the number of iterations. Duality gap: 415.58751963758016, tolerance: 0.19492527045567665\n",
      "  model = cd_fast.enet_coordinate_descent_gram(\n",
      "C:\\Users\\erics\\anaconda3\\envs\\IML\\lib\\site-packages\\sklearn\\linear_model\\_coordinate_descent.py:525: ConvergenceWarning: Objective did not converge. You might want to increase the number of iterations. Duality gap: 437.2954172858342, tolerance: 0.19492527045567665\n",
      "  model = cd_fast.enet_coordinate_descent_gram(\n",
      "C:\\Users\\erics\\anaconda3\\envs\\IML\\lib\\site-packages\\sklearn\\linear_model\\_coordinate_descent.py:525: ConvergenceWarning: Objective did not converge. You might want to increase the number of iterations. Duality gap: 458.4125186849802, tolerance: 0.19492527045567665\n",
      "  model = cd_fast.enet_coordinate_descent_gram(\n",
      "C:\\Users\\erics\\anaconda3\\envs\\IML\\lib\\site-packages\\sklearn\\linear_model\\_coordinate_descent.py:525: ConvergenceWarning: Objective did not converge. You might want to increase the number of iterations. Duality gap: 478.95287455602977, tolerance: 0.19492527045567665\n",
      "  model = cd_fast.enet_coordinate_descent_gram(\n",
      "C:\\Users\\erics\\anaconda3\\envs\\IML\\lib\\site-packages\\sklearn\\linear_model\\_coordinate_descent.py:525: ConvergenceWarning: Objective did not converge. You might want to increase the number of iterations. Duality gap: 498.888578931584, tolerance: 0.19492527045567665\n",
      "  model = cd_fast.enet_coordinate_descent_gram(\n",
      "C:\\Users\\erics\\anaconda3\\envs\\IML\\lib\\site-packages\\sklearn\\linear_model\\_coordinate_descent.py:525: ConvergenceWarning: Objective did not converge. You might want to increase the number of iterations. Duality gap: 2.969965871204522, tolerance: 0.1873761307379906\n",
      "  model = cd_fast.enet_coordinate_descent_gram(\n",
      "C:\\Users\\erics\\anaconda3\\envs\\IML\\lib\\site-packages\\sklearn\\linear_model\\_coordinate_descent.py:525: ConvergenceWarning: Objective did not converge. You might want to increase the number of iterations. Duality gap: 18.478533626602257, tolerance: 0.1873761307379906\n",
      "  model = cd_fast.enet_coordinate_descent_gram(\n",
      "C:\\Users\\erics\\anaconda3\\envs\\IML\\lib\\site-packages\\sklearn\\linear_model\\_coordinate_descent.py:525: ConvergenceWarning: Objective did not converge. You might want to increase the number of iterations. Duality gap: 42.285307445562694, tolerance: 0.1873761307379906\n",
      "  model = cd_fast.enet_coordinate_descent_gram(\n",
      "C:\\Users\\erics\\anaconda3\\envs\\IML\\lib\\site-packages\\sklearn\\linear_model\\_coordinate_descent.py:525: ConvergenceWarning: Objective did not converge. You might want to increase the number of iterations. Duality gap: 70.77235623510614, tolerance: 0.1873761307379906\n",
      "  model = cd_fast.enet_coordinate_descent_gram(\n",
      "C:\\Users\\erics\\anaconda3\\envs\\IML\\lib\\site-packages\\sklearn\\linear_model\\_coordinate_descent.py:525: ConvergenceWarning: Objective did not converge. You might want to increase the number of iterations. Duality gap: 15.728041458010921, tolerance: 0.1873761307379906\n",
      "  model = cd_fast.enet_coordinate_descent_gram(\n",
      "C:\\Users\\erics\\anaconda3\\envs\\IML\\lib\\site-packages\\sklearn\\linear_model\\_coordinate_descent.py:525: ConvergenceWarning: Objective did not converge. You might want to increase the number of iterations. Duality gap: 51.79694325965215, tolerance: 0.1873761307379906\n",
      "  model = cd_fast.enet_coordinate_descent_gram(\n",
      "C:\\Users\\erics\\anaconda3\\envs\\IML\\lib\\site-packages\\sklearn\\linear_model\\_coordinate_descent.py:525: ConvergenceWarning: Objective did not converge. You might want to increase the number of iterations. Duality gap: 96.10801415916126, tolerance: 0.1873761307379906\n",
      "  model = cd_fast.enet_coordinate_descent_gram(\n",
      "C:\\Users\\erics\\anaconda3\\envs\\IML\\lib\\site-packages\\sklearn\\linear_model\\_coordinate_descent.py:525: ConvergenceWarning: Objective did not converge. You might want to increase the number of iterations. Duality gap: 135.431394355875, tolerance: 0.1873761307379906\n",
      "  model = cd_fast.enet_coordinate_descent_gram(\n",
      "C:\\Users\\erics\\anaconda3\\envs\\IML\\lib\\site-packages\\sklearn\\linear_model\\_coordinate_descent.py:525: ConvergenceWarning: Objective did not converge. You might want to increase the number of iterations. Duality gap: 162.52987554438505, tolerance: 0.1873761307379906\n",
      "  model = cd_fast.enet_coordinate_descent_gram(\n",
      "C:\\Users\\erics\\anaconda3\\envs\\IML\\lib\\site-packages\\sklearn\\linear_model\\_coordinate_descent.py:525: ConvergenceWarning: Objective did not converge. You might want to increase the number of iterations. Duality gap: 239.57268994433628, tolerance: 0.1873761307379906\n",
      "  model = cd_fast.enet_coordinate_descent_gram(\n",
      "C:\\Users\\erics\\anaconda3\\envs\\IML\\lib\\site-packages\\sklearn\\linear_model\\_coordinate_descent.py:525: ConvergenceWarning: Objective did not converge. You might want to increase the number of iterations. Duality gap: 301.14674177220365, tolerance: 0.1873761307379906\n",
      "  model = cd_fast.enet_coordinate_descent_gram(\n",
      "C:\\Users\\erics\\anaconda3\\envs\\IML\\lib\\site-packages\\sklearn\\linear_model\\_coordinate_descent.py:525: ConvergenceWarning: Objective did not converge. You might want to increase the number of iterations. Duality gap: 342.27125177980884, tolerance: 0.1873761307379906\n",
      "  model = cd_fast.enet_coordinate_descent_gram(\n",
      "C:\\Users\\erics\\anaconda3\\envs\\IML\\lib\\site-packages\\sklearn\\linear_model\\_coordinate_descent.py:525: ConvergenceWarning: Objective did not converge. You might want to increase the number of iterations. Duality gap: 364.51883344052135, tolerance: 0.1873761307379906\n",
      "  model = cd_fast.enet_coordinate_descent_gram(\n",
      "C:\\Users\\erics\\anaconda3\\envs\\IML\\lib\\site-packages\\sklearn\\linear_model\\_coordinate_descent.py:525: ConvergenceWarning: Objective did not converge. You might want to increase the number of iterations. Duality gap: 386.0372922057376, tolerance: 0.1873761307379906\n",
      "  model = cd_fast.enet_coordinate_descent_gram(\n",
      "C:\\Users\\erics\\anaconda3\\envs\\IML\\lib\\site-packages\\sklearn\\linear_model\\_coordinate_descent.py:525: ConvergenceWarning: Objective did not converge. You might want to increase the number of iterations. Duality gap: 407.71503676053476, tolerance: 0.1873761307379906\n",
      "  model = cd_fast.enet_coordinate_descent_gram(\n",
      "C:\\Users\\erics\\anaconda3\\envs\\IML\\lib\\site-packages\\sklearn\\linear_model\\_coordinate_descent.py:525: ConvergenceWarning: Objective did not converge. You might want to increase the number of iterations. Duality gap: 428.5280205591446, tolerance: 0.1873761307379906\n",
      "  model = cd_fast.enet_coordinate_descent_gram(\n",
      "C:\\Users\\erics\\anaconda3\\envs\\IML\\lib\\site-packages\\sklearn\\linear_model\\_coordinate_descent.py:525: ConvergenceWarning: Objective did not converge. You might want to increase the number of iterations. Duality gap: 445.86316446606475, tolerance: 0.1873761307379906\n",
      "  model = cd_fast.enet_coordinate_descent_gram(\n",
      "C:\\Users\\erics\\anaconda3\\envs\\IML\\lib\\site-packages\\sklearn\\linear_model\\_coordinate_descent.py:525: ConvergenceWarning: Objective did not converge. You might want to increase the number of iterations. Duality gap: 1.4587431048798862, tolerance: 0.1828593275696224\n",
      "  model = cd_fast.enet_coordinate_descent_gram(\n",
      "C:\\Users\\erics\\anaconda3\\envs\\IML\\lib\\site-packages\\sklearn\\linear_model\\_coordinate_descent.py:525: ConvergenceWarning: Objective did not converge. You might want to increase the number of iterations. Duality gap: 14.75486281625399, tolerance: 0.1828593275696224\n",
      "  model = cd_fast.enet_coordinate_descent_gram(\n",
      "C:\\Users\\erics\\anaconda3\\envs\\IML\\lib\\site-packages\\sklearn\\linear_model\\_coordinate_descent.py:525: ConvergenceWarning: Objective did not converge. You might want to increase the number of iterations. Duality gap: 0.4553855441449741, tolerance: 0.1828593275696224\n",
      "  model = cd_fast.enet_coordinate_descent_gram(\n",
      "C:\\Users\\erics\\anaconda3\\envs\\IML\\lib\\site-packages\\sklearn\\linear_model\\_coordinate_descent.py:525: ConvergenceWarning: Objective did not converge. You might want to increase the number of iterations. Duality gap: 22.48258573703947, tolerance: 0.1828593275696224\n",
      "  model = cd_fast.enet_coordinate_descent_gram(\n",
      "C:\\Users\\erics\\anaconda3\\envs\\IML\\lib\\site-packages\\sklearn\\linear_model\\_coordinate_descent.py:525: ConvergenceWarning: Objective did not converge. You might want to increase the number of iterations. Duality gap: 65.41056295869907, tolerance: 0.1828593275696224\n",
      "  model = cd_fast.enet_coordinate_descent_gram(\n",
      "C:\\Users\\erics\\anaconda3\\envs\\IML\\lib\\site-packages\\sklearn\\linear_model\\_coordinate_descent.py:525: ConvergenceWarning: Objective did not converge. You might want to increase the number of iterations. Duality gap: 114.88055874165684, tolerance: 0.1828593275696224\n",
      "  model = cd_fast.enet_coordinate_descent_gram(\n",
      "C:\\Users\\erics\\anaconda3\\envs\\IML\\lib\\site-packages\\sklearn\\linear_model\\_coordinate_descent.py:525: ConvergenceWarning: Objective did not converge. You might want to increase the number of iterations. Duality gap: 164.85427993669032, tolerance: 0.1828593275696224\n",
      "  model = cd_fast.enet_coordinate_descent_gram(\n",
      "C:\\Users\\erics\\anaconda3\\envs\\IML\\lib\\site-packages\\sklearn\\linear_model\\_coordinate_descent.py:525: ConvergenceWarning: Objective did not converge. You might want to increase the number of iterations. Duality gap: 3.7655369074720966, tolerance: 0.1908449528300638\n",
      "  model = cd_fast.enet_coordinate_descent_gram(\n",
      "C:\\Users\\erics\\anaconda3\\envs\\IML\\lib\\site-packages\\sklearn\\linear_model\\_coordinate_descent.py:525: ConvergenceWarning: Objective did not converge. You might want to increase the number of iterations. Duality gap: 20.217152711563358, tolerance: 0.1908449528300638\n",
      "  model = cd_fast.enet_coordinate_descent_gram(\n",
      "C:\\Users\\erics\\anaconda3\\envs\\IML\\lib\\site-packages\\sklearn\\linear_model\\_coordinate_descent.py:525: ConvergenceWarning: Objective did not converge. You might want to increase the number of iterations. Duality gap: 44.680531302912186, tolerance: 0.1908449528300638\n",
      "  model = cd_fast.enet_coordinate_descent_gram(\n",
      "C:\\Users\\erics\\anaconda3\\envs\\IML\\lib\\site-packages\\sklearn\\linear_model\\_coordinate_descent.py:525: ConvergenceWarning: Objective did not converge. You might want to increase the number of iterations. Duality gap: 73.57865330752861, tolerance: 0.1908449528300638\n",
      "  model = cd_fast.enet_coordinate_descent_gram(\n",
      "C:\\Users\\erics\\anaconda3\\envs\\IML\\lib\\site-packages\\sklearn\\linear_model\\_coordinate_descent.py:525: ConvergenceWarning: Objective did not converge. You might want to increase the number of iterations. Duality gap: 17.892121804912676, tolerance: 0.1908449528300638\n",
      "  model = cd_fast.enet_coordinate_descent_gram(\n",
      "C:\\Users\\erics\\anaconda3\\envs\\IML\\lib\\site-packages\\sklearn\\linear_model\\_coordinate_descent.py:525: ConvergenceWarning: Objective did not converge. You might want to increase the number of iterations. Duality gap: 62.047667727589214, tolerance: 0.1908449528300638\n",
      "  model = cd_fast.enet_coordinate_descent_gram(\n",
      "C:\\Users\\erics\\anaconda3\\envs\\IML\\lib\\site-packages\\sklearn\\linear_model\\_coordinate_descent.py:525: ConvergenceWarning: Objective did not converge. You might want to increase the number of iterations. Duality gap: 114.34724720080703, tolerance: 0.1908449528300638\n",
      "  model = cd_fast.enet_coordinate_descent_gram(\n",
      "C:\\Users\\erics\\anaconda3\\envs\\IML\\lib\\site-packages\\sklearn\\linear_model\\_coordinate_descent.py:525: ConvergenceWarning: Objective did not converge. You might want to increase the number of iterations. Duality gap: 167.15165312104818, tolerance: 0.1908449528300638\n",
      "  model = cd_fast.enet_coordinate_descent_gram(\n",
      "C:\\Users\\erics\\anaconda3\\envs\\IML\\lib\\site-packages\\sklearn\\linear_model\\_coordinate_descent.py:525: ConvergenceWarning: Objective did not converge. You might want to increase the number of iterations. Duality gap: 205.88864457223076, tolerance: 0.1908449528300638\n",
      "  model = cd_fast.enet_coordinate_descent_gram(\n",
      "C:\\Users\\erics\\anaconda3\\envs\\IML\\lib\\site-packages\\sklearn\\linear_model\\_coordinate_descent.py:525: ConvergenceWarning: Objective did not converge. You might want to increase the number of iterations. Duality gap: 233.24125295445594, tolerance: 0.1908449528300638\n",
      "  model = cd_fast.enet_coordinate_descent_gram(\n",
      "C:\\Users\\erics\\anaconda3\\envs\\IML\\lib\\site-packages\\sklearn\\linear_model\\_coordinate_descent.py:525: ConvergenceWarning: Objective did not converge. You might want to increase the number of iterations. Duality gap: 259.3667241346453, tolerance: 0.1908449528300638\n",
      "  model = cd_fast.enet_coordinate_descent_gram(\n",
      "C:\\Users\\erics\\anaconda3\\envs\\IML\\lib\\site-packages\\sklearn\\linear_model\\_coordinate_descent.py:525: ConvergenceWarning: Objective did not converge. You might want to increase the number of iterations. Duality gap: 286.9650354399463, tolerance: 0.1908449528300638\n",
      "  model = cd_fast.enet_coordinate_descent_gram(\n",
      "C:\\Users\\erics\\anaconda3\\envs\\IML\\lib\\site-packages\\sklearn\\linear_model\\_coordinate_descent.py:525: ConvergenceWarning: Objective did not converge. You might want to increase the number of iterations. Duality gap: 363.8864929194449, tolerance: 0.1908449528300638\n",
      "  model = cd_fast.enet_coordinate_descent_gram(\n",
      "C:\\Users\\erics\\anaconda3\\envs\\IML\\lib\\site-packages\\sklearn\\linear_model\\_coordinate_descent.py:525: ConvergenceWarning: Objective did not converge. You might want to increase the number of iterations. Duality gap: 411.18461100552986, tolerance: 0.1908449528300638\n",
      "  model = cd_fast.enet_coordinate_descent_gram(\n",
      "C:\\Users\\erics\\anaconda3\\envs\\IML\\lib\\site-packages\\sklearn\\linear_model\\_coordinate_descent.py:525: ConvergenceWarning: Objective did not converge. You might want to increase the number of iterations. Duality gap: 435.6009948187817, tolerance: 0.1908449528300638\n",
      "  model = cd_fast.enet_coordinate_descent_gram(\n",
      "C:\\Users\\erics\\anaconda3\\envs\\IML\\lib\\site-packages\\sklearn\\linear_model\\_coordinate_descent.py:525: ConvergenceWarning: Objective did not converge. You might want to increase the number of iterations. Duality gap: 452.1536830783282, tolerance: 0.1908449528300638\n",
      "  model = cd_fast.enet_coordinate_descent_gram(\n",
      "C:\\Users\\erics\\anaconda3\\envs\\IML\\lib\\site-packages\\sklearn\\linear_model\\_coordinate_descent.py:525: ConvergenceWarning: Objective did not converge. You might want to increase the number of iterations. Duality gap: 470.94375996821316, tolerance: 0.1908449528300638\n",
      "  model = cd_fast.enet_coordinate_descent_gram(\n",
      "C:\\Users\\erics\\anaconda3\\envs\\IML\\lib\\site-packages\\sklearn\\linear_model\\_coordinate_descent.py:525: ConvergenceWarning: Objective did not converge. You might want to increase the number of iterations. Duality gap: 488.9885581050206, tolerance: 0.1908449528300638\n",
      "  model = cd_fast.enet_coordinate_descent_gram(\n"
     ]
    }
   ],
   "source": [
    "reg = LassoCV(cv=5, random_state=10).fit(X_train, y_train)\n",
    "print(reg.score(X_train, y_train))\n",
    "print(reg.score(X_test, y_test))"
   ]
  },
  {
   "cell_type": "code",
   "execution_count": 25,
   "id": "4a2c2372",
   "metadata": {},
   "outputs": [
    {
     "name": "stdout",
     "output_type": "stream",
     "text": [
      "RMSE test= 1.8564987677938734\n",
      "RMSE overfit= 1.9638504708041704\n"
     ]
    }
   ],
   "source": [
    "pred_values = reg.predict(X_test)\n",
    "overfitPar = reg.predict(X_train)\n",
    "acc = np.sqrt(mean_squared_error(pred_values , y_test))\n",
    "accOverfit = np.sqrt(mean_squared_error(overfitPar , y_train))\n",
    "print(\"RMSE test= \"+ str(acc))\n",
    "print(\"RMSE overfit= \"+ str(accOverfit))"
   ]
  },
  {
   "cell_type": "code",
   "execution_count": 26,
   "id": "fa7f4b01",
   "metadata": {},
   "outputs": [
    {
     "data": {
      "text/plain": [
       "array([-0.        , -1.7106677 , -1.7858597 , -0.        ,  0.        ,\n",
       "       -0.        ,  0.        ,  0.        ,  0.        ,  0.        ,\n",
       "       -0.03438317, -0.        , -0.        , -0.        ,  0.        ,\n",
       "        0.        , -0.        , -0.        , -0.        , -0.        ,\n",
       "        0.        ])"
      ]
     },
     "execution_count": 26,
     "metadata": {},
     "output_type": "execute_result"
    }
   ],
   "source": [
    "reg.coef_"
   ]
  },
  {
   "cell_type": "code",
   "execution_count": 27,
   "id": "3477f696",
   "metadata": {},
   "outputs": [
    {
     "data": {
      "text/plain": [
       "array([[4.47740068, 3.30085397, 3.93569047, 4.31887774, 3.64474312],\n",
       "       [4.47740068, 3.29722927, 3.93228738, 4.31447327, 3.64031655],\n",
       "       [4.47740068, 3.29418816, 3.9293677 , 4.30894205, 3.63653755],\n",
       "       [4.47410971, 3.29164712, 3.92686578, 4.30409474, 3.63484287],\n",
       "       [4.46580372, 3.28953401, 3.92472467, 4.29984472, 3.63392817],\n",
       "       [4.45841137, 3.28778655, 3.92289501, 4.29611649, 3.63331063],\n",
       "       [4.45182499, 3.28635103, 3.92103658, 4.29284423, 3.63293855],\n",
       "       [4.44595018, 3.28410793, 3.91860572, 4.28997055, 3.63277056],\n",
       "       [4.43747975, 3.28043293, 3.91694041, 4.28744538, 3.63276874],\n",
       "       [4.42985015, 3.27772796, 3.91591071, 4.28522509, 3.63290173],\n",
       "       [4.42314943, 3.27583351, 3.91540561, 4.28327157, 3.63229505],\n",
       "       [4.417261  , 3.27461313, 3.91533048, 4.28155158, 3.6263255 ],\n",
       "       [4.41208314, 3.27395024, 3.9158558 , 4.28003613, 3.6210005 ],\n",
       "       [4.40752708, 3.2737453 , 3.91760576, 4.27869988, 3.61624299],\n",
       "       [4.40351538, 3.27391367, 3.91953119, 4.27046026, 3.61198872],\n",
       "       [4.39998045, 3.27438336, 3.92158163, 4.261541  , 3.60818001],\n",
       "       [4.39686328, 3.27509334, 3.92371566, 4.25346056, 3.6047673 ],\n",
       "       [4.39411232, 3.27603449, 3.92589876, 4.24613146, 3.60170359],\n",
       "       [4.39168256, 3.27719787, 3.92810251, 4.23947614, 3.59895084],\n",
       "       [4.38953466, 3.27845804, 3.93030365, 4.23342577, 3.59647452],\n",
       "       [4.38763424, 3.27978566, 3.93248335, 4.2279192 , 3.59424414],\n",
       "       [4.38595125, 3.28115634, 3.93462654, 4.22290207, 3.59223283],\n",
       "       [4.3844594 , 3.28254976, 3.93672129, 4.21832597, 3.59041689],\n",
       "       [4.38312986, 3.28394965, 3.93875836, 4.21414778, 3.58877534],\n",
       "       [4.38188949, 3.28534239, 3.94073076, 4.21032903, 3.58728966],\n",
       "       [4.38079528, 3.28671711, 3.9426334 , 4.20683536, 3.58594346],\n",
       "       [4.37982836, 3.28806515, 3.94446274, 4.20414916, 3.58472386],\n",
       "       [4.37897317, 3.2893797 , 3.94621658, 4.20301618, 3.58361461],\n",
       "       [4.37821612, 3.29065556, 3.94789377, 4.2020607 , 3.58260596],\n",
       "       [4.37754532, 3.29214993, 3.94949407, 4.20186508, 3.58207569],\n",
       "       [4.37695037, 3.29478638, 3.95101795, 4.20236413, 3.58267077],\n",
       "       [4.37642272, 3.29743165, 3.95246648, 4.20194541, 3.58354062],\n",
       "       [4.37595326, 3.29997064, 3.95384115, 4.20140639, 3.58445188],\n",
       "       [4.37553524, 3.30448772, 3.95514387, 4.20459283, 3.58538803],\n",
       "       [4.37516349, 3.30909235, 3.95637677, 4.20833193, 3.58633616],\n",
       "       [4.37498113, 3.31352156, 3.95754223, 4.21195596, 3.58728391],\n",
       "       [4.37490648, 3.31777016, 3.95864292, 4.21545486, 3.5882263 ],\n",
       "       [4.37485067, 3.32183496, 3.95968108, 4.21882171, 3.58915458],\n",
       "       [4.37624825, 3.325715  , 3.96065958, 4.22205175, 3.59006326],\n",
       "       [4.3779321 , 3.32999988, 3.96158108, 4.22514247, 3.59094806],\n",
       "       [4.38059461, 3.33606461, 3.96244826, 4.22809305, 3.59180572],\n",
       "       [4.38407382, 3.34194038, 3.96332942, 4.23090407, 3.59263384],\n",
       "       [4.38736502, 3.34760913, 3.96432167, 4.23357577, 3.59404699],\n",
       "       [4.39057449, 3.35403737, 3.96508579, 4.23611368, 3.59547243],\n",
       "       [4.39369436, 3.36111609, 3.96589866, 4.23851955, 3.5968668 ],\n",
       "       [4.39671873, 3.36808572, 3.96736541, 4.2407972 , 3.59840245],\n",
       "       [4.39945201, 3.37495049, 3.96877171, 4.24295085, 3.60000681],\n",
       "       [4.40045047, 3.38164961, 3.97011425, 4.24498502, 3.60165359],\n",
       "       [4.40149743, 3.38811461, 3.97139441, 4.24690441, 3.60332022],\n",
       "       [4.40257566, 3.39441042, 3.97261274, 4.24871386, 3.60498823],\n",
       "       [4.40366951, 3.40051778, 3.97377143, 4.25041824, 3.60664259],\n",
       "       [4.40476587, 3.40633588, 3.97486935, 4.25193391, 3.60827119],\n",
       "       [4.40585568, 3.41191452, 3.97590933, 4.25328131, 3.60986821],\n",
       "       [4.40688704, 3.41724983, 3.97630832, 4.25455197, 3.61141941],\n",
       "       [4.40788297, 3.4223411 , 3.97518808, 4.2557487 , 3.6129219 ],\n",
       "       [4.40886627, 3.42718961, 3.97416781, 4.25687496, 3.61437676],\n",
       "       [4.40983   , 3.43179869, 3.9732401 , 4.25793417, 3.61545668],\n",
       "       [4.4107694 , 3.4361731 , 3.97239461, 4.26011772, 3.61582065],\n",
       "       [4.41167905, 3.44031872, 3.97162082, 4.2626218 , 3.6162021 ],\n",
       "       [4.41255981, 3.44424251, 3.97091606, 4.26500096, 3.6165872 ],\n",
       "       [4.41340795, 3.44795166, 3.97026919, 4.26725703, 3.61698282],\n",
       "       [4.41422217, 3.45145441, 3.96967684, 4.26939632, 3.61737919],\n",
       "       [4.41500174, 3.4547587 , 3.96902265, 4.27135257, 3.61847071],\n",
       "       [4.41574635, 3.45787323, 3.96764434, 4.27287022, 3.61957814],\n",
       "       [4.41645393, 3.46080651, 3.96636567, 4.2743076 , 3.62063746],\n",
       "       [4.41712917, 3.46356679, 3.96518846, 4.27566761, 3.6216452 ],\n",
       "       [4.41777049, 3.46616248, 3.96409456, 4.27695293, 3.62260997],\n",
       "       [4.41844539, 3.46860192, 3.9630819 , 4.27816637, 3.62352795],\n",
       "       [4.41903305, 3.47089302, 3.96216522, 4.27931085, 3.62439988],\n",
       "       [4.41958067, 3.47304357, 3.96132067, 4.28038754, 3.62522682],\n",
       "       [4.42010242, 3.47506326, 3.96055006, 4.28140318, 3.62601   ],\n",
       "       [4.42059659, 3.47695378, 3.95989474, 4.28235881, 3.62674615],\n",
       "       [4.42106253, 3.47872593, 3.95951859, 4.28535282, 3.62744633],\n",
       "       [4.42150148, 3.48038683, 3.95917236, 4.28877701, 3.62810725],\n",
       "       [4.42191471, 3.48194291, 3.9588543 , 4.29200378, 3.62873048],\n",
       "       [4.42230346, 3.48340031, 3.95856192, 4.29504078, 3.62931767],\n",
       "       [4.42266894, 3.48476489, 3.95829292, 4.29789247, 3.62987047],\n",
       "       [4.42301234, 3.48604218, 3.95804775, 4.30057752, 3.63038526],\n",
       "       [4.42331043, 3.48713038, 3.95781943, 4.30309988, 3.63080271],\n",
       "       [4.42344989, 3.48803215, 3.95748474, 4.30546809, 3.63106886],\n",
       "       [4.42346488, 3.48874041, 3.9570119 , 4.30769048, 3.63121582],\n",
       "       [4.42337113, 3.4892767 , 3.95648784, 4.30977506, 3.63125718],\n",
       "       [4.42318989, 3.48966262, 3.95586471, 4.31169837, 3.63128509],\n",
       "       [4.42364574, 3.48991905, 3.95499496, 4.31346088, 3.63160264],\n",
       "       [4.4239575 , 3.49328611, 3.95477479, 4.31510864, 3.63190206],\n",
       "       [4.42425957, 3.49440965, 3.95450713, 4.31665197, 3.63218415],\n",
       "       [4.42446783, 3.49489422, 3.95424244, 4.3180973 , 3.63237472],\n",
       "       [4.42446195, 3.49512822, 3.95399762, 4.31945046, 3.63242252],\n",
       "       [4.42435003, 3.49523   , 3.95373762, 4.32056921, 3.63234893],\n",
       "       [4.42414582, 3.49521747, 3.95344367, 4.32123984, 3.63217039],\n",
       "       [4.42386241, 3.49510807, 3.95320708, 4.32140643, 3.63255992],\n",
       "       [4.42351697, 3.49491856, 3.95282968, 4.32216075, 3.63268646],\n",
       "       [4.42314587, 3.4946648 , 3.95155612, 4.32286796, 3.63281043],\n",
       "       [4.42276055, 3.49436159, 3.95013324, 4.32353078, 3.63295485],\n",
       "       [4.42236745, 3.49402254, 3.94900337, 4.32415178, 3.63206002],\n",
       "       [4.42197252, 3.49364683, 3.94839247, 4.32471811, 3.63117043],\n",
       "       [4.42158107, 3.49320441, 3.9478855 , 4.3251909 , 3.63069096],\n",
       "       [4.42119773, 3.49273592, 3.94746793, 4.3252723 , 3.63033992],\n",
       "       [4.42082647, 3.49224837, 3.94714207, 4.32500418, 3.62997125],\n",
       "       [4.42047059, 3.49174847, 3.94688464, 4.32442549, 3.62963997]])"
      ]
     },
     "execution_count": 27,
     "metadata": {},
     "output_type": "execute_result"
    }
   ],
   "source": [
    "reg.mse_path_ #Mean square error for the test set on each fold, varying alpha."
   ]
  },
  {
   "cell_type": "code",
   "execution_count": 28,
   "id": "083c36a5",
   "metadata": {},
   "outputs": [
    {
     "name": "stdout",
     "output_type": "stream",
     "text": [
      "    Coefficiants\n",
      "0     -0.0000000\n",
      "1     -1.7106677\n",
      "2     -1.7858597\n",
      "3     -0.0000000\n",
      "4      0.0000000\n",
      "5     -0.0000000\n",
      "6      0.0000000\n",
      "7      0.0000000\n",
      "8      0.0000000\n",
      "9      0.0000000\n",
      "10    -0.0343832\n",
      "11    -0.0000000\n",
      "12    -0.0000000\n",
      "13    -0.0000000\n",
      "14     0.0000000\n",
      "15     0.0000000\n",
      "16    -0.0000000\n",
      "17    -0.0000000\n",
      "18    -0.0000000\n",
      "19    -0.0000000\n",
      "20     0.0000000\n"
     ]
    }
   ],
   "source": [
    "dictionary = {'Coefficiants': reg.coef_}\n",
    "avg_acc_df = pd.DataFrame(dictionary )\n",
    "print(avg_acc_df)\n",
    "avg_acc_df.to_csv(r'C:\\Users\\erics\\Documents\\Programme\\IntroML\\Task1\\submission1bV3.csv', index=False, header=False)"
   ]
  },
  {
   "cell_type": "code",
   "execution_count": null,
   "id": "6f5d2223",
   "metadata": {},
   "outputs": [],
   "source": []
  }
 ],
 "metadata": {
  "kernelspec": {
   "display_name": "Python 3 (ipykernel)",
   "language": "python",
   "name": "python3"
  },
  "language_info": {
   "codemirror_mode": {
    "name": "ipython",
    "version": 3
   },
   "file_extension": ".py",
   "mimetype": "text/x-python",
   "name": "python",
   "nbconvert_exporter": "python",
   "pygments_lexer": "ipython3",
   "version": "3.8.12"
  }
 },
 "nbformat": 4,
 "nbformat_minor": 5
}
