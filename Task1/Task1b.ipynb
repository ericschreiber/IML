{
 "cells": [
  {
   "cell_type": "code",
   "execution_count": 1,
   "id": "09a2aea7",
   "metadata": {},
   "outputs": [],
   "source": [
    "from sklearn.metrics import mean_squared_error\n",
    "import numpy as np\n",
    "import pandas as pd\n",
    "\n",
    "from sklearn.model_selection import KFold \n",
    "from sklearn.linear_model import Ridge\n",
    "from sklearn.metrics import mean_squared_error\n",
    "from sklearn.preprocessing import FunctionTransformer\n",
    "from sklearn.model_selection import GridSearchCV\n",
    "\n",
    "device = 'cpu'\n",
    "\n",
    "#Code loosly based on https://datascience.stackexchange.com/questions/56804/sckit-learn-cross-validation-and-model-retrain\n",
    "#And our exercise 1a"
   ]
  },
  {
   "cell_type": "code",
   "execution_count": 2,
   "id": "2f38f7fb",
   "metadata": {
    "scrolled": true
   },
   "outputs": [
    {
     "name": "stdout",
     "output_type": "stream",
     "text": [
      "       x1    x2    x3    x4    x5\n",
      "0    0.02  0.05 -0.09 -0.43 -0.08\n",
      "1   -0.13  0.11 -0.08 -0.29 -0.03\n",
      "2    0.08  0.06 -0.07 -0.41 -0.03\n",
      "3    0.02 -0.12  0.01 -0.43 -0.02\n",
      "4   -0.14 -0.12 -0.08 -0.02 -0.08\n",
      "..    ...   ...   ...   ...   ...\n",
      "695  0.31 -0.09  0.04 -0.09  0.03\n",
      "696 -0.26 -0.01  0.02 -0.40  0.05\n",
      "697 -0.27 -0.22 -0.01 -0.32 -0.05\n",
      "698  0.19  0.11 -0.05 -0.27 -0.04\n",
      "699 -0.09 -0.09 -0.06 -0.41 -0.06\n",
      "\n",
      "[700 rows x 5 columns]\n",
      "0     -6.8226793\n",
      "1     -6.3262905\n",
      "2     -9.3027282\n",
      "3     -7.3718925\n",
      "4     -6.0276470\n",
      "         ...    \n",
      "695   -6.1473937\n",
      "696   -6.2148989\n",
      "697   -6.8413411\n",
      "698   -6.5233707\n",
      "699   -5.6766827\n",
      "Name: y, Length: 700, dtype: float64\n",
      "(700, 5)\n",
      "(700,)\n"
     ]
    }
   ],
   "source": [
    "train = pd.read_csv(r'C:\\Users\\erics\\Documents\\Programme\\IntroML\\Task1\\task1b_ql4jfi6af0\\train.csv')\n",
    "\n",
    "X = train.iloc[:,2:]\n",
    "Y = train.iloc[:,1]\n",
    "ID = train.iloc[:,0]\n",
    "pd.set_option(\"display.precision\", 7)\n",
    "print(X)\n",
    "print(Y)\n",
    "print(X.shape)\n",
    "print(Y.shape)"
   ]
  },
  {
   "cell_type": "markdown",
   "id": "fcf35b8c",
   "metadata": {},
   "source": [
    "Wir verlieren etwas präzision durch das Laden in den DataFrame (durch float precision)"
   ]
  },
  {
   "cell_type": "code",
   "execution_count": 3,
   "id": "0ee6d45a",
   "metadata": {},
   "outputs": [],
   "source": [
    "def transform(X):\n",
    "    l1 = X\n",
    "    l2 = X*X\n",
    "    l3 = np.exp(X)\n",
    "    l4 = np.cos(X)\n",
    "    const = np.ones((X.shape[0],1))\n",
    "    return np.concatenate((l1, l2, l3, l4, const), axis=1)"
   ]
  },
  {
   "cell_type": "code",
   "execution_count": 4,
   "id": "f8494114",
   "metadata": {},
   "outputs": [],
   "source": [
    "transformer = FunctionTransformer(transform, validate=True)"
   ]
  },
  {
   "cell_type": "code",
   "execution_count": 5,
   "id": "e42a67c5",
   "metadata": {},
   "outputs": [],
   "source": [
    "#X_Test = np.array([[1, 2, 3, 4, 5], [1, 1,1, 1,1], [1, 1,1, 1,1], [1, 1,1, 1,1]])\n",
    "#print(transformer.transform(X_Test))"
   ]
  },
  {
   "cell_type": "code",
   "execution_count": 6,
   "id": "7bdf1b63",
   "metadata": {},
   "outputs": [
    {
     "name": "stdout",
     "output_type": "stream",
     "text": [
      "(700, 21)\n"
     ]
    }
   ],
   "source": [
    "X_trans = transformer.transform(X)\n",
    "print(X_trans.shape)"
   ]
  },
  {
   "cell_type": "code",
   "execution_count": 13,
   "id": "35c5c7af",
   "metadata": {},
   "outputs": [],
   "source": [
    "param_grid = {'alpha' : np.logspace(-2, 20, num=500)}\n",
    "kf = KFold(n_splits=10)\n",
    "model = Ridge(alpha=1)\n",
    "\n",
    "grid_search = GridSearchCV(model, param_grid, cv=kf, scoring='neg_root_mean_squared_error', return_train_score=True)"
   ]
  },
  {
   "cell_type": "code",
   "execution_count": 14,
   "id": "2c6780b6",
   "metadata": {},
   "outputs": [
    {
     "name": "stdout",
     "output_type": "stream",
     "text": [
      "Lowest MSE: -1.9544610282420538\n",
      "With alpha: Ridge(alpha=5.413360302965381)\n",
      "And coefficiants. \n",
      "[-0.07002198 -0.67209581 -0.81806507 -0.05550941 -0.03943274 -0.23734516\n",
      "  0.18733674  0.16142086 -0.0323701   0.1049385  -0.19701087 -0.58247842\n",
      " -0.74521486 -0.07995748  0.00320602  0.11794449 -0.0931548  -0.08017685\n",
      "  0.01528865 -0.05082425  0.        ]\n"
     ]
    }
   ],
   "source": [
    "best_model = grid_search.fit(X_trans, Y)\n",
    "print(\"Lowest RMSE:\" + str(best_model.best_score_))\n",
    "best_alpha = best_model.best_estimator_\n",
    "print(\"With alpha: \" + str(best_alpha))\n",
    "\n",
    "coefficiants = best_model.best_estimator_.coef_\n",
    "print(\"And coefficiants. \")\n",
    "print(coefficiants)"
   ]
  },
  {
   "cell_type": "markdown",
   "id": "9141accc",
   "metadata": {},
   "source": [
    "store\n"
   ]
  },
  {
   "cell_type": "code",
   "execution_count": 12,
   "id": "25d759aa",
   "metadata": {},
   "outputs": [
    {
     "name": "stdout",
     "output_type": "stream",
     "text": [
      "    Coefficiants\n",
      "0     -0.0782118\n",
      "1     -0.6492389\n",
      "2     -0.7827070\n",
      "3     -0.0574910\n",
      "4     -0.0349332\n",
      "5     -0.2156051\n",
      "6      0.1728397\n",
      "7      0.1526187\n",
      "8     -0.0267091\n",
      "9      0.0945264\n",
      "10    -0.1936406\n",
      "11    -0.5668747\n",
      "12    -0.7137819\n",
      "13    -0.0784624\n",
      "14     0.0034448\n",
      "15     0.1071381\n",
      "16    -0.0859434\n",
      "17    -0.0758117\n",
      "18     0.0125573\n",
      "19    -0.0457747\n",
      "20     0.0000000\n"
     ]
    }
   ],
   "source": [
    "dictionary = {'Coefficiants': coefficiants}\n",
    "avg_acc_df = pd.DataFrame(dictionary )\n",
    "print(avg_acc_df)\n",
    "avg_acc_df.to_csv(r'C:\\Users\\erics\\Documents\\Programme\\IntroML\\Task1\\submission1b.csv', index=False, header=False)"
   ]
  },
  {
   "cell_type": "code",
   "execution_count": null,
   "id": "4ea71f1d",
   "metadata": {},
   "outputs": [],
   "source": []
  }
 ],
 "metadata": {
  "kernelspec": {
   "display_name": "Python 3 (ipykernel)",
   "language": "python",
   "name": "python3"
  },
  "language_info": {
   "codemirror_mode": {
    "name": "ipython",
    "version": 3
   },
   "file_extension": ".py",
   "mimetype": "text/x-python",
   "name": "python",
   "nbconvert_exporter": "python",
   "pygments_lexer": "ipython3",
   "version": "3.8.12"
  }
 },
 "nbformat": 4,
 "nbformat_minor": 5
}
