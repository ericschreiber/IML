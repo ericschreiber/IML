{
 "cells": [
  {
   "cell_type": "code",
   "execution_count": 31,
   "id": "09a2aea7",
   "metadata": {},
   "outputs": [],
   "source": [
    "from sklearn.metrics import mean_squared_error\n",
    "import numpy as np\n",
    "import pandas as pd\n",
    "\n",
    "from sklearn.model_selection import KFold \n",
    "from sklearn.linear_model import Ridge\n",
    "from sklearn.metrics import mean_squared_error\n",
    "from sklearn.preprocessing import FunctionTransformer\n",
    "from sklearn.model_selection import GridSearchCV\n",
    "from sklearn.linear_model import LinearRegression\n",
    "from sklearn.model_selection import train_test_split\n",
    "\n",
    "\n",
    "\n",
    "device = 'cpu'\n",
    "\n",
    "#Code loosly based on https://datascience.stackexchange.com/questions/56804/sckit-learn-cross-validation-and-model-retrain\n",
    "#And our exercise 1a"
   ]
  },
  {
   "cell_type": "code",
   "execution_count": 2,
   "id": "2f38f7fb",
   "metadata": {
    "scrolled": true
   },
   "outputs": [
    {
     "name": "stdout",
     "output_type": "stream",
     "text": [
      "       x1    x2    x3    x4    x5\n",
      "0    0.02  0.05 -0.09 -0.43 -0.08\n",
      "1   -0.13  0.11 -0.08 -0.29 -0.03\n",
      "2    0.08  0.06 -0.07 -0.41 -0.03\n",
      "3    0.02 -0.12  0.01 -0.43 -0.02\n",
      "4   -0.14 -0.12 -0.08 -0.02 -0.08\n",
      "..    ...   ...   ...   ...   ...\n",
      "695  0.31 -0.09  0.04 -0.09  0.03\n",
      "696 -0.26 -0.01  0.02 -0.40  0.05\n",
      "697 -0.27 -0.22 -0.01 -0.32 -0.05\n",
      "698  0.19  0.11 -0.05 -0.27 -0.04\n",
      "699 -0.09 -0.09 -0.06 -0.41 -0.06\n",
      "\n",
      "[700 rows x 5 columns]\n",
      "0     -6.8226793\n",
      "1     -6.3262905\n",
      "2     -9.3027282\n",
      "3     -7.3718925\n",
      "4     -6.0276470\n",
      "         ...    \n",
      "695   -6.1473937\n",
      "696   -6.2148989\n",
      "697   -6.8413411\n",
      "698   -6.5233707\n",
      "699   -5.6766827\n",
      "Name: y, Length: 700, dtype: float64\n",
      "(700, 5)\n",
      "(700,)\n"
     ]
    }
   ],
   "source": [
    "train = pd.read_csv(r'C:\\Users\\erics\\Documents\\Programme\\IntroML\\Task1\\task1b_ql4jfi6af0\\train.csv')\n",
    "\n",
    "X = train.iloc[:,2:]\n",
    "Y = train.iloc[:,1]\n",
    "ID = train.iloc[:,0]\n",
    "pd.set_option(\"display.precision\", 7)\n",
    "print(X)\n",
    "print(Y)\n",
    "print(X.shape)\n",
    "print(Y.shape)"
   ]
  },
  {
   "cell_type": "markdown",
   "id": "fcf35b8c",
   "metadata": {},
   "source": [
    "Wir verlieren etwas präzision durch das Laden in den DataFrame (durch float precision)"
   ]
  },
  {
   "cell_type": "code",
   "execution_count": 3,
   "id": "0ee6d45a",
   "metadata": {},
   "outputs": [],
   "source": [
    "def transform(X):\n",
    "    l1 = X\n",
    "    l2 = X*X\n",
    "    l3 = np.exp(X)\n",
    "    l4 = np.cos(X)\n",
    "    const = np.ones((X.shape[0],1))\n",
    "    return np.concatenate((l1, l2, l3, l4, const), axis=1)"
   ]
  },
  {
   "cell_type": "code",
   "execution_count": 4,
   "id": "f8494114",
   "metadata": {},
   "outputs": [],
   "source": [
    "transformer = FunctionTransformer(transform, validate=True)"
   ]
  },
  {
   "cell_type": "code",
   "execution_count": 5,
   "id": "e42a67c5",
   "metadata": {},
   "outputs": [],
   "source": [
    "#X_Test = np.array([[1, 2, 3, 4, 5], [1, 1,1, 1,1], [1, 1,1, 1,1], [1, 1,1, 1,1]])\n",
    "#print(transformer.transform(X_Test))"
   ]
  },
  {
   "cell_type": "code",
   "execution_count": 10,
   "id": "7bdf1b63",
   "metadata": {},
   "outputs": [
    {
     "name": "stdout",
     "output_type": "stream",
     "text": [
      "(700, 21)\n"
     ]
    }
   ],
   "source": [
    "X_trans = transformer.transform(X)\n",
    "print(X_trans.shape)\n",
    "#print(X_trans)"
   ]
  },
  {
   "cell_type": "code",
   "execution_count": 11,
   "id": "35c5c7af",
   "metadata": {},
   "outputs": [],
   "source": [
    "param_grid = {'alpha' : np.logspace(-2, 10, num=200)}\n",
    "kf = KFold(n_splits=10)\n",
    "model = Ridge(alpha=1)\n",
    "\n",
    "grid_search = GridSearchCV(model, param_grid, cv=kf, scoring='neg_root_mean_squared_error', return_train_score=True)"
   ]
  },
  {
   "cell_type": "code",
   "execution_count": 12,
   "id": "2c6780b6",
   "metadata": {},
   "outputs": [
    {
     "name": "stdout",
     "output_type": "stream",
     "text": [
      "Lowest RMSE:-1.9544619103436798\n",
      "With alpha: Ridge(alpha=5.170920242896756)\n",
      "And coefficiants. \n",
      "[-0.06612788 -0.68231224 -0.83384997 -0.05459609 -0.04157483 -0.24778276\n",
      "  0.19426473  0.16548507 -0.03504243  0.10998607 -0.19867299 -0.5892195\n",
      " -0.75919001 -0.08069978  0.00312958  0.12313297 -0.0966012  -0.08219195\n",
      "  0.01657758 -0.05327217  0.        ]\n"
     ]
    }
   ],
   "source": [
    "best_model = grid_search.fit(X_trans, Y)\n",
    "print(\"Lowest RMSE:\" + str(best_model.best_score_))\n",
    "best_alpha = best_model.best_estimator_\n",
    "print(\"With alpha: \" + str(best_alpha))\n",
    "\n",
    "coefficiants = best_model.best_estimator_.coef_\n",
    "print(\"And coefficiants. \")\n",
    "print(coefficiants)"
   ]
  },
  {
   "cell_type": "markdown",
   "id": "9141accc",
   "metadata": {},
   "source": [
    "store\n"
   ]
  },
  {
   "cell_type": "code",
   "execution_count": null,
   "id": "25d759aa",
   "metadata": {},
   "outputs": [],
   "source": [
    "dictionary = {'Coefficiants': coefficiants}\n",
    "avg_acc_df = pd.DataFrame(dictionary )\n",
    "print(avg_acc_df)\n",
    "avg_acc_df.to_csv(r'C:\\Users\\erics\\Documents\\Programme\\IntroML\\Task1\\submission1b.csv', index=False, header=False)"
   ]
  },
  {
   "cell_type": "code",
   "execution_count": 14,
   "id": "4ea71f1d",
   "metadata": {},
   "outputs": [
    {
     "name": "stdout",
     "output_type": "stream",
     "text": [
      "[-0.06612788 -0.68231224 -0.83384997 -0.05459609 -0.04157483 -0.24778276\n",
      "  0.19426473  0.16548507 -0.03504243  0.10998607 -0.19867299 -0.5892195\n",
      " -0.75919001 -0.08069978  0.00312958  0.12313297 -0.0966012  -0.08219195\n",
      "  0.01657758 -0.05327217  0.        ]\n"
     ]
    }
   ],
   "source": [
    "model2 = Ridge(alpha=5.170920242896756)\n",
    "best_fit = model2.fit(X_trans, Y)\n",
    "coef = best_fit.coef_\n",
    "print(coef)"
   ]
  },
  {
   "cell_type": "markdown",
   "id": "bfc9f863",
   "metadata": {},
   "source": [
    "Overfitting Data This does not work"
   ]
  },
  {
   "cell_type": "code",
   "execution_count": 17,
   "id": "75d8d327",
   "metadata": {},
   "outputs": [
    {
     "name": "stdout",
     "output_type": "stream",
     "text": [
      "[   87.19891672   -67.27010868    28.53822965   158.07550392\n",
      "  -819.69642957   200.04958807  -393.54175642  1953.26216011\n",
      "  -523.63288817  1518.93422167   -86.60565699    65.34027498\n",
      "   -30.9921308   -155.77167729   822.10809668   327.109988\n",
      "  -737.64020339  3890.67031218 -1211.22831197  3799.82175151\n",
      "     0.        ]\n"
     ]
    }
   ],
   "source": [
    "model3 = LinearRegression()\n",
    "best_fit = model3.fit(X_trans, Y)\n",
    "coef = best_fit.coef_\n",
    "print(coef)"
   ]
  },
  {
   "cell_type": "markdown",
   "id": "4719b9a5",
   "metadata": {},
   "source": [
    "Versuche nochmals 10 fold cross validation"
   ]
  },
  {
   "cell_type": "code",
   "execution_count": 24,
   "id": "0b1194da",
   "metadata": {},
   "outputs": [],
   "source": [
    "k = 10\n",
    "kf = KFold(n_splits=k, random_state=None)\n",
    "model4 = Ridge(alpha=5.170920242896756)\n",
    "acc_score = []\n",
    "best_acc = 1000\n"
   ]
  },
  {
   "cell_type": "code",
   "execution_count": 27,
   "id": "ab964214",
   "metadata": {},
   "outputs": [],
   "source": [
    "for train_index , test_index in kf.split(X):\n",
    "        X_train , X_test = X_trans[train_index,:],X_trans[test_index,:]\n",
    "        Y_train , Y_test = Y[train_index] , Y[test_index]\n",
    "\n",
    "        model4.fit(X_train,Y_train)\n",
    "        pred_values = model4.predict(X_test)\n",
    "\n",
    "        acc = np.sqrt(mean_squared_error(pred_values , Y_test))\n",
    "        if acc < best_acc:\n",
    "            best_acc = acc\n",
    "            best_model = model4\n",
    "            \n",
    "        acc_score.append(acc)"
   ]
  },
  {
   "cell_type": "code",
   "execution_count": 28,
   "id": "9278ae29",
   "metadata": {},
   "outputs": [
    {
     "name": "stdout",
     "output_type": "stream",
     "text": [
      "1.432199870633657\n",
      "[1.8485391074358133, 1.87281313622276, 2.058194759256672, 2.031439206673872, 1.432199870633657, 2.2027697621467093, 2.083450831416385, 1.9344169064790657, 2.087398928980819, 1.993396594191042, 1.8485391074358133, 1.87281313622276, 2.058194759256672, 2.031439206673872, 1.432199870633657, 2.2027697621467093, 2.083450831416385, 1.9344169064790657, 2.087398928980819, 1.993396594191042]\n"
     ]
    }
   ],
   "source": [
    "print(best_acc)\n",
    "print(acc_score)"
   ]
  },
  {
   "cell_type": "code",
   "execution_count": 29,
   "id": "e669f597",
   "metadata": {},
   "outputs": [
    {
     "name": "stdout",
     "output_type": "stream",
     "text": [
      "[-0.08763883 -0.7148755  -0.83292098 -0.1133526   0.00544648 -0.26315091\n",
      "  0.12677361  0.15931781 -0.0288422   0.09031017 -0.22336217 -0.65368685\n",
      " -0.76088086 -0.13649197  0.04081951  0.13036691 -0.06305099 -0.07913339\n",
      "  0.01366292 -0.04345531  0.        ]\n"
     ]
    }
   ],
   "source": [
    "print(model4.coef_)"
   ]
  },
  {
   "cell_type": "code",
   "execution_count": 30,
   "id": "4c072b91",
   "metadata": {},
   "outputs": [
    {
     "name": "stdout",
     "output_type": "stream",
     "text": [
      "    Coefficiants\n",
      "0     -0.0876388\n",
      "1     -0.7148755\n",
      "2     -0.8329210\n",
      "3     -0.1133526\n",
      "4      0.0054465\n",
      "5     -0.2631509\n",
      "6      0.1267736\n",
      "7      0.1593178\n",
      "8     -0.0288422\n",
      "9      0.0903102\n",
      "10    -0.2233622\n",
      "11    -0.6536869\n",
      "12    -0.7608809\n",
      "13    -0.1364920\n",
      "14     0.0408195\n",
      "15     0.1303669\n",
      "16    -0.0630510\n",
      "17    -0.0791334\n",
      "18     0.0136629\n",
      "19    -0.0434553\n",
      "20     0.0000000\n"
     ]
    }
   ],
   "source": [
    "dictionary = {'Coefficiants': model4.coef_}\n",
    "avg_acc_df = pd.DataFrame(dictionary )\n",
    "print(avg_acc_df)\n",
    "avg_acc_df.to_csv(r'C:\\Users\\erics\\Documents\\Programme\\IntroML\\Task1\\submission1bV4.csv', index=False, header=False)"
   ]
  },
  {
   "cell_type": "code",
   "execution_count": null,
   "id": "d2c5205c",
   "metadata": {},
   "outputs": [],
   "source": []
  }
 ],
 "metadata": {
  "kernelspec": {
   "display_name": "Python 3 (ipykernel)",
   "language": "python",
   "name": "python3"
  },
  "language_info": {
   "codemirror_mode": {
    "name": "ipython",
    "version": 3
   },
   "file_extension": ".py",
   "mimetype": "text/x-python",
   "name": "python",
   "nbconvert_exporter": "python",
   "pygments_lexer": "ipython3",
   "version": "3.8.12"
  }
 },
 "nbformat": 4,
 "nbformat_minor": 5
}
