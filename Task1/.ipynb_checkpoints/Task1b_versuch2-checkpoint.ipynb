{
 "cells": [
  {
   "cell_type": "code",
   "execution_count": 2,
   "id": "09a2aea7",
   "metadata": {},
   "outputs": [],
   "source": [
    "from sklearn.metrics import mean_squared_error\n",
    "import numpy as np\n",
    "import pandas as pd\n",
    "\n",
    "from sklearn.model_selection import KFold \n",
    "from sklearn.linear_model import Ridge\n",
    "from sklearn.metrics import mean_squared_error\n",
    "from sklearn.preprocessing import FunctionTransformer\n",
    "from sklearn.model_selection import GridSearchCV\n",
    "from sklearn.linear_model import LinearRegression\n",
    "from sklearn.model_selection import train_test_split\n",
    "\n",
    "device = 'cpu'\n",
    "\n",
    "#Code loosly based on https://datascience.stackexchange.com/questions/56804/sckit-learn-cross-validation-and-model-retrain\n",
    "#And our exercise 1a"
   ]
  },
  {
   "cell_type": "code",
   "execution_count": 3,
   "id": "2f38f7fb",
   "metadata": {
    "scrolled": true
   },
   "outputs": [
    {
     "name": "stdout",
     "output_type": "stream",
     "text": [
      "       x1    x2    x3    x4    x5\n",
      "0    0.02  0.05 -0.09 -0.43 -0.08\n",
      "1   -0.13  0.11 -0.08 -0.29 -0.03\n",
      "2    0.08  0.06 -0.07 -0.41 -0.03\n",
      "3    0.02 -0.12  0.01 -0.43 -0.02\n",
      "4   -0.14 -0.12 -0.08 -0.02 -0.08\n",
      "..    ...   ...   ...   ...   ...\n",
      "695  0.31 -0.09  0.04 -0.09  0.03\n",
      "696 -0.26 -0.01  0.02 -0.40  0.05\n",
      "697 -0.27 -0.22 -0.01 -0.32 -0.05\n",
      "698  0.19  0.11 -0.05 -0.27 -0.04\n",
      "699 -0.09 -0.09 -0.06 -0.41 -0.06\n",
      "\n",
      "[700 rows x 5 columns]\n",
      "0     -6.8226793\n",
      "1     -6.3262905\n",
      "2     -9.3027282\n",
      "3     -7.3718925\n",
      "4     -6.0276470\n",
      "         ...    \n",
      "695   -6.1473937\n",
      "696   -6.2148989\n",
      "697   -6.8413411\n",
      "698   -6.5233707\n",
      "699   -5.6766827\n",
      "Name: y, Length: 700, dtype: float64\n",
      "(700, 5)\n",
      "(700,)\n"
     ]
    }
   ],
   "source": [
    "train = pd.read_csv(r'C:\\Users\\erics\\Documents\\Programme\\IntroML\\Task1\\task1b_ql4jfi6af0\\train.csv')\n",
    "\n",
    "X = train.iloc[:,2:]\n",
    "Y = train.iloc[:,1]\n",
    "ID = train.iloc[:,0]\n",
    "pd.set_option(\"display.precision\", 7)\n",
    "print(X)\n",
    "print(Y)\n",
    "print(X.shape)\n",
    "print(Y.shape)"
   ]
  },
  {
   "cell_type": "markdown",
   "id": "fcf35b8c",
   "metadata": {},
   "source": [
    "\n",
    "Wir verlieren etwas präzision durch das Laden in den DataFrame (durch float precision)"
   ]
  },
  {
   "cell_type": "code",
   "execution_count": 4,
   "id": "0ee6d45a",
   "metadata": {},
   "outputs": [],
   "source": [
    "def transform(X):\n",
    "    l1 = X\n",
    "    l2 = X*X\n",
    "    l3 = np.exp(X)\n",
    "    l4 = np.cos(X)\n",
    "    const = np.ones((X.shape[0],1))\n",
    "    return np.concatenate((l1, l2, l3, l4, const), axis=1)"
   ]
  },
  {
   "cell_type": "code",
   "execution_count": 5,
   "id": "f8494114",
   "metadata": {},
   "outputs": [],
   "source": [
    "transformer = FunctionTransformer(transform, validate=True)"
   ]
  },
  {
   "cell_type": "code",
   "execution_count": 6,
   "id": "e42a67c5",
   "metadata": {},
   "outputs": [],
   "source": [
    "#X_Test = np.array([[1, 2, 3, 4, 5], [1, 1,1, 1,1], [1, 1,1, 1,1], [1, 1,1, 1,1]])\n",
    "#print(transformer.transform(X_Test))"
   ]
  },
  {
   "cell_type": "code",
   "execution_count": 7,
   "id": "7bdf1b63",
   "metadata": {},
   "outputs": [
    {
     "name": "stdout",
     "output_type": "stream",
     "text": [
      "(700, 21)\n"
     ]
    }
   ],
   "source": [
    "X_trans = transformer.transform(X)\n",
    "print(X_trans.shape)"
   ]
  },
  {
   "cell_type": "code",
   "execution_count": 12,
   "id": "95293224",
   "metadata": {},
   "outputs": [
    {
     "name": "stdout",
     "output_type": "stream",
     "text": [
      "(600, 21)\n",
      "(100, 21)\n"
     ]
    }
   ],
   "source": [
    "#X_train = X_trans[:600]\n",
    "#Y_train = Y[:600]\n",
    "#X_test = X_trans[600:]\n",
    "#Y_test = Y[600:]\n",
    "\n",
    "#print(X_train.shape)\n",
    "#print(X_test.shape)"
   ]
  },
  {
   "cell_type": "code",
   "execution_count": 22,
   "id": "654469c2",
   "metadata": {},
   "outputs": [],
   "source": [
    "X_train, X_test, y_train, y_test = train_test_split( X_trans, Y, test_size=0.15, random_state=42)"
   ]
  },
  {
   "cell_type": "code",
   "execution_count": 23,
   "id": "6b00626d",
   "metadata": {},
   "outputs": [
    {
     "data": {
      "text/plain": [
       "-0.07228702506821572"
      ]
     },
     "execution_count": 23,
     "metadata": {},
     "output_type": "execute_result"
    }
   ],
   "source": [
    "reg = LinearRegression().fit(X_train, y_train)\n",
    "reg.score(X_test, y_test)\n",
    "#best possible is 1"
   ]
  },
  {
   "cell_type": "code",
   "execution_count": 24,
   "id": "f0c2e500",
   "metadata": {},
   "outputs": [
    {
     "data": {
      "text/plain": [
       "0.04283046974131188"
      ]
     },
     "execution_count": 24,
     "metadata": {},
     "output_type": "execute_result"
    }
   ],
   "source": [
    "reg.score(X_train, y_train)"
   ]
  },
  {
   "cell_type": "code",
   "execution_count": 25,
   "id": "8e9b2209",
   "metadata": {},
   "outputs": [
    {
     "name": "stdout",
     "output_type": "stream",
     "text": [
      "And coefficiants. \n",
      "[  194.08577461   -81.24168448  -274.53071591   164.45373974\n",
      "  -230.4406407    511.29718488  -231.80911632  2717.5567307\n",
      "  -632.25281067   647.80189169  -192.35745167    78.93640786\n",
      "   271.02940433  -161.07022408   232.93553301   844.98754144\n",
      "  -399.08820478  5721.45850763 -1441.44410965  1510.67846616\n",
      "     0.        ]\n"
     ]
    }
   ],
   "source": [
    "coefficiants = reg.coef_\n",
    "print(\"And coefficiants. \")\n",
    "print(coefficiants)"
   ]
  },
  {
   "cell_type": "code",
   "execution_count": null,
   "id": "a38d2452",
   "metadata": {},
   "outputs": [],
   "source": []
  },
  {
   "cell_type": "code",
   "execution_count": 7,
   "id": "35c5c7af",
   "metadata": {},
   "outputs": [],
   "source": [
    "#param_grid = {'alpha' : np.logspace(-2, 20, num=500)}\n",
    "#kf = KFold(n_splits=10)\n",
    "#model = Ridge(alpha=1)\n",
    "\n",
    "#grid_search = GridSearchCV(model, param_grid, cv=kf, scoring='neg_root_mean_squared_error', return_train_score=True)"
   ]
  },
  {
   "cell_type": "code",
   "execution_count": 8,
   "id": "2c6780b6",
   "metadata": {},
   "outputs": [],
   "source": [
    "#best_model = grid_search.fit(X_trans, Y)\n",
    "#print(\"Lowest RMSE:\" + str(best_model.best_score_))\n",
    "#best_alpha = best_model.best_estimator_\n",
    "#print(\"With alpha: \" + str(best_alpha))\n",
    "\n",
    "#coefficiants = best_model.best_estimator_.coef_\n",
    "#print(\"And coefficiants. \")\n",
    "#print(coefficiants)"
   ]
  },
  {
   "cell_type": "markdown",
   "id": "9141accc",
   "metadata": {},
   "source": [
    "store\n"
   ]
  },
  {
   "cell_type": "code",
   "execution_count": 26,
   "id": "25d759aa",
   "metadata": {},
   "outputs": [
    {
     "name": "stdout",
     "output_type": "stream",
     "text": [
      "    Coefficiants\n",
      "0    194.0857746\n",
      "1    -81.2416845\n",
      "2   -274.5307159\n",
      "3    164.4537397\n",
      "4   -230.4406407\n",
      "5    511.2971849\n",
      "6   -231.8091163\n",
      "7   2717.5567307\n",
      "8   -632.2528107\n",
      "9    647.8018917\n",
      "10  -192.3574517\n",
      "11    78.9364079\n",
      "12   271.0294043\n",
      "13  -161.0702241\n",
      "14   232.9355330\n",
      "15   844.9875414\n",
      "16  -399.0882048\n",
      "17  5721.4585076\n",
      "18 -1441.4441096\n",
      "19  1510.6784662\n",
      "20     0.0000000\n"
     ]
    }
   ],
   "source": [
    "dictionary = {'Coefficiants': coefficiants}\n",
    "avg_acc_df = pd.DataFrame(dictionary )\n",
    "print(avg_acc_df)\n",
    "avg_acc_df.to_csv(r'C:\\Users\\erics\\Documents\\Programme\\IntroML\\Task1\\submission1bV2.csv', index=False, header=False)"
   ]
  },
  {
   "cell_type": "markdown",
   "id": "b60ff7bd",
   "metadata": {},
   "source": [
    "Do it again with 10fold CV"
   ]
  },
  {
   "cell_type": "code",
   "execution_count": 9,
   "id": "6add488e",
   "metadata": {},
   "outputs": [],
   "source": [
    "k = 10\n",
    "kf = KFold(n_splits=k, random_state=None)\n",
    "model4 = LinearRegression()\n",
    "acc_score = []\n",
    "best_acc = 1000"
   ]
  },
  {
   "cell_type": "code",
   "execution_count": 12,
   "id": "8cdc800d",
   "metadata": {},
   "outputs": [],
   "source": [
    "for train_index , test_index in kf.split(X):\n",
    "        X_train , X_test = X_trans[train_index,:],X_trans[test_index,:]\n",
    "        Y_train , Y_test = Y[train_index] , Y[test_index]\n",
    "\n",
    "        model4.fit(X_train,Y_train)\n",
    "        pred_values = model4.predict(X_test)\n",
    "\n",
    "        acc = np.sqrt(mean_squared_error(pred_values , Y_test))\n",
    "        if acc < best_acc:\n",
    "            best_acc = acc\n",
    "            best_model = model4\n",
    "            \n",
    "        acc_score.append(acc)"
   ]
  },
  {
   "cell_type": "code",
   "execution_count": 13,
   "id": "198cfc38",
   "metadata": {},
   "outputs": [
    {
     "name": "stdout",
     "output_type": "stream",
     "text": [
      "1.5026533942115932\n",
      "[1.857847963963212, 1.9427760389196727, 2.0791330910686816, 2.099254836793668, 1.5026533942115932, 2.1750940896136473, 2.1292184675783847, 3.0122824475015193, 2.092656530910476, 2.0183780738385697, 1.857847963963212, 1.9427760389196727, 2.0791330910686816, 2.099254836793668, 1.5026533942115932, 2.1750940896136473, 2.1292184675783847, 3.0122824475015193, 2.092656530910476, 2.0183780738385697]\n"
     ]
    }
   ],
   "source": [
    "print(best_acc)\n",
    "print(acc_score)"
   ]
  },
  {
   "cell_type": "code",
   "execution_count": 14,
   "id": "170d548a",
   "metadata": {},
   "outputs": [
    {
     "name": "stdout",
     "output_type": "stream",
     "text": [
      "[   49.32427461   -92.31677187   -49.08284161   142.55312621\n",
      "  -232.64052742  -633.19361087  -185.6673051   2263.09257\n",
      "  -434.0833918   1029.36004814   -48.88294897    89.75674898\n",
      "    46.40565946  -140.74447839   232.99960548 -1314.97583041\n",
      "  -291.44265695  4587.46481592 -1014.16419639  2291.77628807\n",
      "     0.        ]\n"
     ]
    }
   ],
   "source": [
    "print(model4.coef_)"
   ]
  },
  {
   "cell_type": "code",
   "execution_count": 16,
   "id": "a324f766",
   "metadata": {},
   "outputs": [
    {
     "name": "stdout",
     "output_type": "stream",
     "text": [
      "    Coefficiants\n",
      "0     49.3242746\n",
      "1    -92.3167719\n",
      "2    -49.0828416\n",
      "3    142.5531262\n",
      "4   -232.6405274\n",
      "5   -633.1936109\n",
      "6   -185.6673051\n",
      "7   2263.0925700\n",
      "8   -434.0833918\n",
      "9   1029.3600481\n",
      "10   -48.8829490\n",
      "11    89.7567490\n",
      "12    46.4056595\n",
      "13  -140.7444784\n",
      "14   232.9996055\n",
      "15 -1314.9758304\n",
      "16  -291.4426569\n",
      "17  4587.4648159\n",
      "18 -1014.1641964\n",
      "19  2291.7762881\n",
      "20     0.0000000\n"
     ]
    }
   ],
   "source": [
    "dictionary = {'Coefficiants': model4.coef_}\n",
    "avg_acc_df = pd.DataFrame(dictionary )\n",
    "print(avg_acc_df)\n",
    "avg_acc_df.to_csv(r'C:\\Users\\erics\\Documents\\Programme\\IntroML\\Task1\\submission1bV2.csv', index=False, header=False)"
   ]
  },
  {
   "cell_type": "code",
   "execution_count": null,
   "id": "07f9edcc",
   "metadata": {},
   "outputs": [],
   "source": []
  }
 ],
 "metadata": {
  "kernelspec": {
   "display_name": "Python 3 (ipykernel)",
   "language": "python",
   "name": "python3"
  },
  "language_info": {
   "codemirror_mode": {
    "name": "ipython",
    "version": 3
   },
   "file_extension": ".py",
   "mimetype": "text/x-python",
   "name": "python",
   "nbconvert_exporter": "python",
   "pygments_lexer": "ipython3",
   "version": "3.8.12"
  }
 },
 "nbformat": 4,
 "nbformat_minor": 5
}
