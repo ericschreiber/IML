{
 "cells": [
  {
   "cell_type": "code",
   "execution_count": 1,
   "id": "88f40d87",
   "metadata": {},
   "outputs": [],
   "source": [
    "from sklearn.metrics import mean_squared_error\n",
    "import numpy as np\n",
    "import pandas as pd\n",
    "\n",
    "from sklearn.model_selection import KFold \n",
    "from sklearn.linear_model import Ridge\n",
    "from sklearn.metrics import mean_squared_error\n",
    "\n",
    "device = 'cpu'\n",
    "\n",
    "#code source for k-fold cross validation: https://www.askpython.com/python/examples/k-fold-cross-validation"
   ]
  },
  {
   "cell_type": "code",
   "execution_count": 2,
   "id": "084b95c2",
   "metadata": {},
   "outputs": [
    {
     "name": "stdout",
     "output_type": "stream",
     "text": [
      "           x1    x2     x3   x4     x5     x6     x7      x8    x9    x10  \\\n",
      "0     0.06724   0.0   3.24  0.0  0.460  6.333   17.2  5.2146   4.0  430.0   \n",
      "1     9.23230   0.0  18.10  0.0  0.631  6.216  100.0  1.1691  24.0  666.0   \n",
      "2     0.11425   0.0  13.89  1.0  0.550  6.373   92.4  3.3633   5.0  276.0   \n",
      "3    24.80170   0.0  18.10  0.0  0.693  5.349   96.0  1.7028  24.0  666.0   \n",
      "4     0.05646   0.0  12.83  0.0  0.437  6.232   53.7  5.0141   5.0  398.0   \n",
      "..        ...   ...    ...  ...    ...    ...    ...     ...   ...    ...   \n",
      "145   0.67191   0.0   8.14  0.0  0.538  5.813   90.3  4.6820   4.0  307.0   \n",
      "146   0.01778  95.0   1.47  0.0  0.403  7.135   13.9  7.6534   3.0  402.0   \n",
      "147   0.06905   0.0   2.18  0.0  0.458  7.147   54.2  6.0622   3.0  222.0   \n",
      "148   7.36711   0.0  18.10  0.0  0.679  6.193   78.1  1.9356  24.0  666.0   \n",
      "149  16.81180   0.0  18.10  0.0  0.700  5.277   98.1  1.4261  24.0  666.0   \n",
      "\n",
      "      x11     x12    x13  \n",
      "0    16.9  375.21   7.34  \n",
      "1    20.2  366.15   9.53  \n",
      "2    16.4  393.74  10.50  \n",
      "3    20.2  396.90  19.77  \n",
      "4    18.7  386.40  12.34  \n",
      "..    ...     ...    ...  \n",
      "145  21.0  376.88  14.81  \n",
      "146  17.0  384.30   4.45  \n",
      "147  18.7  396.90   5.33  \n",
      "148  20.2   96.73  21.52  \n",
      "149  20.2  396.90  30.81  \n",
      "\n",
      "[150 rows x 13 columns]\n",
      "0      22.6\n",
      "1      50.0\n",
      "2      23.0\n",
      "3       8.3\n",
      "4      21.2\n",
      "       ... \n",
      "145    16.6\n",
      "146    32.9\n",
      "147    36.2\n",
      "148    11.0\n",
      "149     7.2\n",
      "Name: y, Length: 150, dtype: float64\n"
     ]
    }
   ],
   "source": [
    "train = pd.read_csv(r'C:\\Users\\erics\\Documents\\Programme\\IntroML\\Task1\\task1a_do4bq81me\\train.csv')\n",
    "\n",
    "X = train.iloc[:,1:]\n",
    "y = train.iloc[:,0]\n",
    "print(X)\n",
    "print(y)\n"
   ]
  },
  {
   "cell_type": "code",
   "execution_count": 3,
   "id": "7ce1a4da",
   "metadata": {},
   "outputs": [],
   "source": [
    "k = 10\n",
    "kf = KFold(n_splits=k, random_state=None)\n",
    "lambd = [0.1, 1, 10, 100, 200]\n",
    "\n",
    "avg_acc = []\n"
   ]
  },
  {
   "cell_type": "code",
   "execution_count": 4,
   "id": "2f706ec7",
   "metadata": {},
   "outputs": [
    {
     "name": "stdout",
     "output_type": "stream",
     "text": [
      "0.1\n",
      "1\n",
      "10\n",
      "100\n",
      "200\n"
     ]
    }
   ],
   "source": [
    "for lam in lambd:\n",
    "    print(lam)\n",
    "    model = Ridge(alpha=lam)\n",
    "    acc_score = []\n",
    "    for train_index , test_index in kf.split(X):\n",
    "        X_train , X_test = X.iloc[train_index,:],X.iloc[test_index,:]\n",
    "        y_train , y_test = y[train_index] , y[test_index]\n",
    "\n",
    "        model.fit(X_train,y_train)\n",
    "        pred_values = model.predict(X_test)\n",
    "\n",
    "        acc = np.sqrt(mean_squared_error(pred_values , y_test))\n",
    "        acc_score.append(acc)\n",
    "        \n",
    "    avg_acc_score = sum(acc_score)/k\n",
    "    avg_acc.append(avg_acc_score)"
   ]
  },
  {
   "cell_type": "code",
   "execution_count": 5,
   "id": "982adece",
   "metadata": {},
   "outputs": [
    {
     "name": "stdout",
     "output_type": "stream",
     "text": [
      "Avg accuracy : [5.501809445057858, 5.499838741278097, 5.483631486072287, 5.636642135414036, 5.721233719861128]\n"
     ]
    }
   ],
   "source": [
    "print('Avg accuracy : {}'.format(avg_acc))"
   ]
  },
  {
   "cell_type": "markdown",
   "id": "aca52e4e",
   "metadata": {},
   "source": [
    "Submission"
   ]
  },
  {
   "cell_type": "code",
   "execution_count": 6,
   "id": "80ce1a33",
   "metadata": {},
   "outputs": [
    {
     "name": "stdout",
     "output_type": "stream",
     "text": [
      "        AVG\n",
      "0  5.501809\n",
      "1  5.499839\n",
      "2  5.483631\n",
      "3  5.636642\n",
      "4  5.721234\n"
     ]
    }
   ],
   "source": [
    "dictionary = {'AVG': avg_acc}\n",
    "avg_acc_df = pd.DataFrame(dictionary )\n",
    "print(avg_acc_df)\n",
    "avg_acc_df.to_csv(r'C:\\Users\\erics\\Documents\\Programme\\IntroML\\Task1\\submission1a.csv', index=False, header=False)"
   ]
  },
  {
   "cell_type": "markdown",
   "id": "a2f60fd4",
   "metadata": {},
   "source": [
    "First using Pandas the data is loaded into a dataframe and then split into X (inputs) and Y (the expected output). \n",
    "Using scikit we can define the ridge regression model and the function KFold that splits our dataset into partitions of the same size. We don't use randomness or shuffeling on the dataset since we have enough datapoints to learn from.\n",
    "For every lambda [0.1, 1, 10, 100, 200] We then train the model 10 times. Each time with a different split of the dataset. This split is given by the KFold function. After fitting the model using ridge regression we use the left out bit of our data to test the model using model.predict(). \n",
    "Then the RMSE between the predicted and the effective datapoints is calculated and stored in acc_score. After doing this 10 time (10 fold cross validation) all the scores in acc_score get averaged and saved the avg_acc list. This list then contains all means of the errors for the 5 runs with different lambdas. \n",
    "As a last step this list is converted back to a dataframe and then stored in a csv file. "
   ]
  },
  {
   "cell_type": "code",
   "execution_count": null,
   "id": "11393502",
   "metadata": {},
   "outputs": [],
   "source": []
  }
 ],
 "metadata": {
  "kernelspec": {
   "display_name": "Python 3 (ipykernel)",
   "language": "python",
   "name": "python3"
  },
  "language_info": {
   "codemirror_mode": {
    "name": "ipython",
    "version": 3
   },
   "file_extension": ".py",
   "mimetype": "text/x-python",
   "name": "python",
   "nbconvert_exporter": "python",
   "pygments_lexer": "ipython3",
   "version": "3.8.12"
  }
 },
 "nbformat": 4,
 "nbformat_minor": 5
}
