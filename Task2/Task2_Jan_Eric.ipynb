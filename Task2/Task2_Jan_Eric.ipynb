{
 "cells": [
  {
   "cell_type": "code",
   "execution_count": 1,
   "id": "2fa49fb0",
   "metadata": {},
   "outputs": [],
   "source": [
    "from sklearn.metrics import mean_squared_error\n",
    "import numpy as np\n",
    "import pandas as pd\n",
    "import matplotlib.pyplot as plt\n",
    "\n",
    "\n",
    "from sklearn.impute import KNNImputer\n",
    "from sklearn.feature_selection import SelectKBest, f_classif\n",
    "from tqdm import tqdm\n",
    "\n",
    "import seaborn as sb\n",
    "\n",
    "device = 'cpu'"
   ]
  },
  {
   "cell_type": "code",
   "execution_count": 2,
   "id": "7acfbbb5",
   "metadata": {},
   "outputs": [],
   "source": [
    "train_feat = pd.read_csv(r'C:\\Users\\erics\\Documents\\Programme\\IntroML\\Task2\\task2_k49am2lqi\\train_features.csv')\n",
    "train_label = pd.read_csv(r'C:\\Users\\erics\\Documents\\Programme\\IntroML\\Task2\\task2_k49am2lqi\\train_labels.csv')\n",
    "test_feat = pd.read_csv(r'C:\\Users\\erics\\Documents\\Programme\\IntroML\\Task2\\task2_k49am2lqi\\test_features.csv')"
   ]
  },
  {
   "cell_type": "code",
   "execution_count": 3,
   "id": "cecd9142",
   "metadata": {},
   "outputs": [],
   "source": [
    "Abgabe = pd.DataFrame({'pid': test_feat.iloc[0::12, 0].values})"
   ]
  },
  {
   "cell_type": "code",
   "execution_count": 4,
   "id": "caf5c27d",
   "metadata": {},
   "outputs": [],
   "source": [
    "train_feat = train_feat.sort_values(by=['pid','Time'])\n",
    "#test_feat = test_feat.sort_values(by=['pid','Time'])\n",
    "train_label = train_label.sort_values(by=['pid'])"
   ]
  },
  {
   "cell_type": "code",
   "execution_count": 5,
   "id": "e1430e12",
   "metadata": {},
   "outputs": [],
   "source": [
    "#TODO: neu schreiben!!! straight anwenden\n",
    "#TODO Neu schreiben*********************************************************************************************************************\n",
    "\n",
    "def make_features(data):\n",
    "    a = []\n",
    "    calc_feat =  [np.nanmean, np.nanvar] # [np.nansum,  np.nanmean, np.nanvar,np.nanmedian, np.nanmax, np.nanmin]\n",
    "    \n",
    "    for i in range(int(data.shape[0] / 12)):\n",
    "        data_without = data[i*12 : (i+1) * 12, 2:] #everything after Age \n",
    "        features = np.empty((6, data[:, 2:].shape[1]))\n",
    "        \n",
    "        for i, feat in enumerate(calc_feat):\n",
    "            features[i] = feat(data_without, axis=0)\n",
    "        a.append(features)\n",
    "    return np.asarray(a)"
   ]
  },
  {
   "cell_type": "code",
   "execution_count": 6,
   "id": "fde611b9",
   "metadata": {},
   "outputs": [
    {
     "name": "stderr",
     "output_type": "stream",
     "text": [
      "C:\\Users\\erics\\AppData\\Local\\Temp/ipykernel_16568/3054711522.py:11: RuntimeWarning: Mean of empty slice\n",
      "  features[i] = feat(data_without, axis=0)\n",
      "C:\\Users\\erics\\AppData\\Local\\Temp/ipykernel_16568/3054711522.py:11: RuntimeWarning: Degrees of freedom <= 0 for slice.\n",
      "  features[i] = feat(data_without, axis=0)\n"
     ]
    }
   ],
   "source": [
    "train_feat_new = make_features(train_feat.to_numpy())\n",
    "test_feat_new = make_features(test_feat.to_numpy())"
   ]
  },
  {
   "cell_type": "code",
   "execution_count": 7,
   "id": "c995b18d",
   "metadata": {},
   "outputs": [
    {
     "data": {
      "text/plain": [
       "(18995, 210)"
      ]
     },
     "execution_count": 7,
     "metadata": {},
     "output_type": "execute_result"
    }
   ],
   "source": [
    "train_feat_new = np.resize(train_feat_new, ((18995, 210)))\n",
    "train_feat_new.shape"
   ]
  },
  {
   "cell_type": "code",
   "execution_count": 8,
   "id": "1f8611c8",
   "metadata": {},
   "outputs": [
    {
     "name": "stdout",
     "output_type": "stream",
     "text": [
      "(12664, 210)\n"
     ]
    }
   ],
   "source": [
    "test_feat_new = np.resize(test_feat_new, ((12664, 210)))\n",
    "print(test_feat_new.shape)"
   ]
  },
  {
   "cell_type": "code",
   "execution_count": 9,
   "id": "89ace0e4",
   "metadata": {},
   "outputs": [],
   "source": [
    "labels = train_label\n",
    "labels.pop(\"pid\")\n",
    "labels = labels.to_numpy()"
   ]
  },
  {
   "cell_type": "code",
   "execution_count": 10,
   "id": "c67a9431",
   "metadata": {},
   "outputs": [],
   "source": [
    "from sklearn.impute import SimpleImputer\n",
    "imputer2 = SimpleImputer(strategy='median')\n",
    "train_feat_new2MEDIAN = imputer2.fit_transform(train_feat_new)"
   ]
  },
  {
   "cell_type": "code",
   "execution_count": 34,
   "id": "926bfa7a",
   "metadata": {},
   "outputs": [],
   "source": [
    "test_feat_newMEDIAN = imputer2.fit_transform(test_feat_new)"
   ]
  },
  {
   "cell_type": "code",
   "execution_count": 11,
   "id": "90b784bf",
   "metadata": {},
   "outputs": [],
   "source": [
    "train_feat_new2MEDIAN = np.float32(train_feat_new2MEDIAN)"
   ]
  },
  {
   "cell_type": "code",
   "execution_count": 12,
   "id": "2b09c910",
   "metadata": {},
   "outputs": [],
   "source": [
    "train_feat_new2MEDIAN = np.nan_to_num(train_feat_new2MEDIAN, nan=0.0, posinf=None, neginf=None)"
   ]
  },
  {
   "cell_type": "code",
   "execution_count": 13,
   "id": "39224103",
   "metadata": {},
   "outputs": [
    {
     "data": {
      "text/plain": [
       "False"
      ]
     },
     "execution_count": 13,
     "metadata": {},
     "output_type": "execute_result"
    }
   ],
   "source": [
    "True in np.isnan(train_feat_new2MEDIAN)"
   ]
  },
  {
   "cell_type": "code",
   "execution_count": 14,
   "id": "41802c16",
   "metadata": {},
   "outputs": [
    {
     "data": {
      "text/plain": [
       "dtype('float32')"
      ]
     },
     "execution_count": 14,
     "metadata": {},
     "output_type": "execute_result"
    }
   ],
   "source": [
    "train_feat_new2MEDIAN.dtype"
   ]
  },
  {
   "cell_type": "code",
   "execution_count": 15,
   "id": "fc589cc4",
   "metadata": {},
   "outputs": [
    {
     "data": {
      "text/plain": [
       "False"
      ]
     },
     "execution_count": 15,
     "metadata": {},
     "output_type": "execute_result"
    }
   ],
   "source": [
    "True in np.isinf(train_feat_new2MEDIAN)"
   ]
  },
  {
   "cell_type": "code",
   "execution_count": 35,
   "id": "ddb7543b",
   "metadata": {},
   "outputs": [],
   "source": [
    "test_feat_newMEDIAN = np.float32(test_feat_newMEDIAN)\n",
    "test_feat_newMEDIAN = np.nan_to_num(test_feat_newMEDIAN, nan=0.0, posinf=None, neginf=None)"
   ]
  },
  {
   "cell_type": "markdown",
   "id": "6aa78812",
   "metadata": {},
   "source": [
    "Subtask 1\n",
    "---"
   ]
  },
  {
   "cell_type": "code",
   "execution_count": 30,
   "id": "0b94ea7c",
   "metadata": {},
   "outputs": [
    {
     "data": {
      "text/plain": [
       "Pipeline(steps=[('scaler', StandardScaler()),\n",
       "                ('classifier', RandomForestClassifier(max_depth=3))])"
      ]
     },
     "execution_count": 30,
     "metadata": {},
     "output_type": "execute_result"
    }
   ],
   "source": [
    "from sklearn.metrics import RocCurveDisplay\n",
    "from sklearn.preprocessing import StandardScaler\n",
    "from sklearn.pipeline import Pipeline\n",
    "from sklearn.ensemble import RandomForestClassifier\n",
    "\n",
    "pipe = Pipeline([('scaler', StandardScaler()), ('classifier', RandomForestClassifier(max_depth=3))])\n",
    "\n",
    "y = labels[2000:, 0]\n",
    "X = train_feat_new2MEDIAN[2000:]\n",
    "\n",
    "pipe.fit(X, y)\n"
   ]
  },
  {
   "cell_type": "code",
   "execution_count": 17,
   "id": "edd04c59",
   "metadata": {},
   "outputs": [
    {
     "data": {
      "image/png": "[encoded data removed]",
      "text/plain": [
       "<Figure size 432x288 with 1 Axes>"
      ]
     },
     "metadata": {
      "needs_background": "light"
     },
     "output_type": "display_data"
    }
   ],
   "source": [
    "y_pred = pipe.predict_proba(train_feat_new2MEDIAN[:2000])[:,1]\n",
    "RocCurveDisplay.from_predictions(labels[:2000, 0], y_pred)\n",
    "plt.show()"
   ]
  },
  {
   "cell_type": "code",
   "execution_count": 32,
   "id": "e164a534",
   "metadata": {},
   "outputs": [],
   "source": [
    "from sklearn.multioutput import MultiOutputClassifier\n",
    "y = labels[:,:10]\n",
    "model = MultiOutputClassifier(pipe).fit(train_feat_new2MEDIAN, y)"
   ]
  },
  {
   "cell_type": "code",
   "execution_count": 33,
   "id": "c19c2d2a",
   "metadata": {},
   "outputs": [
    {
     "data": {
      "text/plain": [
       "array([0.8833654 , 0.79087555, 0.72214603, 0.72497791, 0.71500113,\n",
       "       0.77805589, 0.88108426, 0.80422757, 0.75952205, 0.89025601])"
      ]
     },
     "execution_count": 33,
     "metadata": {},
     "output_type": "execute_result"
    }
   ],
   "source": [
    "from sklearn.metrics import roc_auc_score\n",
    "y_pred = model.predict_proba(train_feat_new2MEDIAN)\n",
    "y_pred = np.asarray(y_pred)\n",
    "y_pred = y_pred[:,:,1]\n",
    "y_pred = np.transpose(y_pred)\n",
    "roc_auc_score(y, y_pred, average=None)"
   ]
  },
  {
   "cell_type": "code",
   "execution_count": 36,
   "id": "5521fa67",
   "metadata": {},
   "outputs": [],
   "source": [
    "y_pred = model.predict_proba(test_feat_newMEDIAN)\n",
    "y_pred = np.asarray(y_pred)\n",
    "y_pred = y_pred[:,:,1]\n",
    "y_pred = np.transpose(y_pred)\n",
    "\n",
    "i = 0\n",
    "#TODO Neu schreiben*********************************************************************************************************************\n",
    "for name in ['LABEL_BaseExcess','LABEL_Fibrinogen','LABEL_AST','LABEL_Alkalinephos','LABEL_Bilirubin_total','LABEL_Lactate','LABEL_TroponinI','LABEL_SaO2','LABEL_Bilirubin_direct','LABEL_EtCO2']:\n",
    "    Abgabe[name] = y_pred[:,i]\n",
    "    i += 1"
   ]
  },
  {
   "cell_type": "code",
   "execution_count": 37,
   "id": "939def6e",
   "metadata": {},
   "outputs": [
    {
     "data": {
      "text/html": [
       "<div>\n",
       "<style scoped>\n",
       "    .dataframe tbody tr th:only-of-type {\n",
       "        vertical-align: middle;\n",
       "    }\n",
       "\n",
       "    .dataframe tbody tr th {\n",
       "        vertical-align: top;\n",
       "    }\n",
       "\n",
       "    .dataframe thead th {\n",
       "        text-align: right;\n",
       "    }\n",
       "</style>\n",
       "<table border=\"1\" class=\"dataframe\">\n",
       "  <thead>\n",
       "    <tr style=\"text-align: right;\">\n",
       "      <th></th>\n",
       "      <th>pid</th>\n",
       "      <th>LABEL_BaseExcess</th>\n",
       "      <th>LABEL_Fibrinogen</th>\n",
       "      <th>LABEL_AST</th>\n",
       "      <th>LABEL_Alkalinephos</th>\n",
       "      <th>LABEL_Bilirubin_total</th>\n",
       "      <th>LABEL_Lactate</th>\n",
       "      <th>LABEL_TroponinI</th>\n",
       "      <th>LABEL_SaO2</th>\n",
       "      <th>LABEL_Bilirubin_direct</th>\n",
       "      <th>LABEL_EtCO2</th>\n",
       "    </tr>\n",
       "  </thead>\n",
       "  <tbody>\n",
       "    <tr>\n",
       "      <th>0</th>\n",
       "      <td>0</td>\n",
       "      <td>0.687805</td>\n",
       "      <td>0.318280</td>\n",
       "      <td>0.524469</td>\n",
       "      <td>0.515496</td>\n",
       "      <td>0.548625</td>\n",
       "      <td>0.437125</td>\n",
       "      <td>0.204836</td>\n",
       "      <td>0.478157</td>\n",
       "      <td>0.118534</td>\n",
       "      <td>0.270972</td>\n",
       "    </tr>\n",
       "    <tr>\n",
       "      <th>1</th>\n",
       "      <td>10001</td>\n",
       "      <td>0.231506</td>\n",
       "      <td>0.079095</td>\n",
       "      <td>0.236839</td>\n",
       "      <td>0.227232</td>\n",
       "      <td>0.227024</td>\n",
       "      <td>0.139856</td>\n",
       "      <td>0.257358</td>\n",
       "      <td>0.149608</td>\n",
       "      <td>0.031097</td>\n",
       "      <td>0.213308</td>\n",
       "    </tr>\n",
       "    <tr>\n",
       "      <th>2</th>\n",
       "      <td>10003</td>\n",
       "      <td>0.363535</td>\n",
       "      <td>0.080958</td>\n",
       "      <td>0.223436</td>\n",
       "      <td>0.209416</td>\n",
       "      <td>0.219718</td>\n",
       "      <td>0.330211</td>\n",
       "      <td>0.252053</td>\n",
       "      <td>0.394973</td>\n",
       "      <td>0.031106</td>\n",
       "      <td>0.304034</td>\n",
       "    </tr>\n",
       "    <tr>\n",
       "      <th>3</th>\n",
       "      <td>10004</td>\n",
       "      <td>0.237828</td>\n",
       "      <td>0.081894</td>\n",
       "      <td>0.243527</td>\n",
       "      <td>0.266459</td>\n",
       "      <td>0.269292</td>\n",
       "      <td>0.144862</td>\n",
       "      <td>0.242821</td>\n",
       "      <td>0.155796</td>\n",
       "      <td>0.033697</td>\n",
       "      <td>0.232609</td>\n",
       "    </tr>\n",
       "    <tr>\n",
       "      <th>4</th>\n",
       "      <td>10005</td>\n",
       "      <td>0.268636</td>\n",
       "      <td>0.094527</td>\n",
       "      <td>0.227558</td>\n",
       "      <td>0.230155</td>\n",
       "      <td>0.235986</td>\n",
       "      <td>0.172443</td>\n",
       "      <td>0.240407</td>\n",
       "      <td>0.172443</td>\n",
       "      <td>0.034967</td>\n",
       "      <td>0.195278</td>\n",
       "    </tr>\n",
       "    <tr>\n",
       "      <th>...</th>\n",
       "      <td>...</td>\n",
       "      <td>...</td>\n",
       "      <td>...</td>\n",
       "      <td>...</td>\n",
       "      <td>...</td>\n",
       "      <td>...</td>\n",
       "      <td>...</td>\n",
       "      <td>...</td>\n",
       "      <td>...</td>\n",
       "      <td>...</td>\n",
       "      <td>...</td>\n",
       "    </tr>\n",
       "    <tr>\n",
       "      <th>12659</th>\n",
       "      <td>9989</td>\n",
       "      <td>0.240573</td>\n",
       "      <td>0.079210</td>\n",
       "      <td>0.239320</td>\n",
       "      <td>0.224343</td>\n",
       "      <td>0.223173</td>\n",
       "      <td>0.139749</td>\n",
       "      <td>0.242707</td>\n",
       "      <td>0.155667</td>\n",
       "      <td>0.030029</td>\n",
       "      <td>0.184959</td>\n",
       "    </tr>\n",
       "    <tr>\n",
       "      <th>12660</th>\n",
       "      <td>9991</td>\n",
       "      <td>0.468270</td>\n",
       "      <td>0.157623</td>\n",
       "      <td>0.255545</td>\n",
       "      <td>0.223422</td>\n",
       "      <td>0.232805</td>\n",
       "      <td>0.330517</td>\n",
       "      <td>0.204062</td>\n",
       "      <td>0.383307</td>\n",
       "      <td>0.036061</td>\n",
       "      <td>0.287036</td>\n",
       "    </tr>\n",
       "    <tr>\n",
       "      <th>12661</th>\n",
       "      <td>9992</td>\n",
       "      <td>0.453260</td>\n",
       "      <td>0.088798</td>\n",
       "      <td>0.209376</td>\n",
       "      <td>0.204776</td>\n",
       "      <td>0.206315</td>\n",
       "      <td>0.220475</td>\n",
       "      <td>0.204955</td>\n",
       "      <td>0.399602</td>\n",
       "      <td>0.033326</td>\n",
       "      <td>0.231635</td>\n",
       "    </tr>\n",
       "    <tr>\n",
       "      <th>12662</th>\n",
       "      <td>9994</td>\n",
       "      <td>0.619040</td>\n",
       "      <td>0.227772</td>\n",
       "      <td>0.383777</td>\n",
       "      <td>0.399617</td>\n",
       "      <td>0.407132</td>\n",
       "      <td>0.535384</td>\n",
       "      <td>0.169620</td>\n",
       "      <td>0.554246</td>\n",
       "      <td>0.096520</td>\n",
       "      <td>0.258544</td>\n",
       "    </tr>\n",
       "    <tr>\n",
       "      <th>12663</th>\n",
       "      <td>9997</td>\n",
       "      <td>0.493174</td>\n",
       "      <td>0.077592</td>\n",
       "      <td>0.217747</td>\n",
       "      <td>0.212576</td>\n",
       "      <td>0.217651</td>\n",
       "      <td>0.291016</td>\n",
       "      <td>0.210947</td>\n",
       "      <td>0.331536</td>\n",
       "      <td>0.030965</td>\n",
       "      <td>0.233933</td>\n",
       "    </tr>\n",
       "  </tbody>\n",
       "</table>\n",
       "<p>12664 rows × 11 columns</p>\n",
       "</div>"
      ],
      "text/plain": [
       "         pid  LABEL_BaseExcess  LABEL_Fibrinogen  LABEL_AST  \\\n",
       "0          0          0.687805          0.318280   0.524469   \n",
       "1      10001          0.231506          0.079095   0.236839   \n",
       "2      10003          0.363535          0.080958   0.223436   \n",
       "3      10004          0.237828          0.081894   0.243527   \n",
       "4      10005          0.268636          0.094527   0.227558   \n",
       "...      ...               ...               ...        ...   \n",
       "12659   9989          0.240573          0.079210   0.239320   \n",
       "12660   9991          0.468270          0.157623   0.255545   \n",
       "12661   9992          0.453260          0.088798   0.209376   \n",
       "12662   9994          0.619040          0.227772   0.383777   \n",
       "12663   9997          0.493174          0.077592   0.217747   \n",
       "\n",
       "       LABEL_Alkalinephos  LABEL_Bilirubin_total  LABEL_Lactate  \\\n",
       "0                0.515496               0.548625       0.437125   \n",
       "1                0.227232               0.227024       0.139856   \n",
       "2                0.209416               0.219718       0.330211   \n",
       "3                0.266459               0.269292       0.144862   \n",
       "4                0.230155               0.235986       0.172443   \n",
       "...                   ...                    ...            ...   \n",
       "12659            0.224343               0.223173       0.139749   \n",
       "12660            0.223422               0.232805       0.330517   \n",
       "12661            0.204776               0.206315       0.220475   \n",
       "12662            0.399617               0.407132       0.535384   \n",
       "12663            0.212576               0.217651       0.291016   \n",
       "\n",
       "       LABEL_TroponinI  LABEL_SaO2  LABEL_Bilirubin_direct  LABEL_EtCO2  \n",
       "0             0.204836    0.478157                0.118534     0.270972  \n",
       "1             0.257358    0.149608                0.031097     0.213308  \n",
       "2             0.252053    0.394973                0.031106     0.304034  \n",
       "3             0.242821    0.155796                0.033697     0.232609  \n",
       "4             0.240407    0.172443                0.034967     0.195278  \n",
       "...                ...         ...                     ...          ...  \n",
       "12659         0.242707    0.155667                0.030029     0.184959  \n",
       "12660         0.204062    0.383307                0.036061     0.287036  \n",
       "12661         0.204955    0.399602                0.033326     0.231635  \n",
       "12662         0.169620    0.554246                0.096520     0.258544  \n",
       "12663         0.210947    0.331536                0.030965     0.233933  \n",
       "\n",
       "[12664 rows x 11 columns]"
      ]
     },
     "execution_count": 37,
     "metadata": {},
     "output_type": "execute_result"
    }
   ],
   "source": [
    "Abgabe"
   ]
  },
  {
   "cell_type": "markdown",
   "id": "b8739365",
   "metadata": {},
   "source": [
    "Subtask 2\n",
    "---"
   ]
  },
  {
   "cell_type": "code",
   "execution_count": 38,
   "id": "19fe21ff",
   "metadata": {},
   "outputs": [
    {
     "data": {
      "text/plain": [
       "Pipeline(steps=[('scaler', StandardScaler()),\n",
       "                ('classifier',\n",
       "                 RandomForestClassifier(class_weight='balanced', max_depth=3))])"
      ]
     },
     "execution_count": 38,
     "metadata": {},
     "output_type": "execute_result"
    }
   ],
   "source": [
    "from sklearn.metrics import RocCurveDisplay\n",
    "from sklearn.preprocessing import StandardScaler\n",
    "from sklearn.pipeline import Pipeline\n",
    "from sklearn.ensemble import RandomForestClassifier\n",
    "pipe = Pipeline([('scaler', StandardScaler()), ('classifier', RandomForestClassifier(max_depth=3, class_weight='balanced'))])\n",
    "\n",
    "y = labels[2000:, 10]\n",
    "X = train_feat_new2MEDIAN[2000:]\n",
    "\n",
    "pipe.fit(X, y)\n"
   ]
  },
  {
   "cell_type": "code",
   "execution_count": 39,
   "id": "829ce779",
   "metadata": {},
   "outputs": [
    {
     "data": {
      "image/png": "[encoded data removed]",
      "text/plain": [
       "<Figure size 432x288 with 1 Axes>"
      ]
     },
     "metadata": {
      "needs_background": "light"
     },
     "output_type": "display_data"
    }
   ],
   "source": [
    "y_pred = pipe.predict_proba(train_feat_new2MEDIAN[:2000])[:,1]\n",
    "RocCurveDisplay.from_predictions(labels[:2000, 10], y_pred)\n",
    "plt.show()"
   ]
  },
  {
   "cell_type": "code",
   "execution_count": 40,
   "id": "723c5b8f",
   "metadata": {},
   "outputs": [],
   "source": [
    "y_pred = pipe.predict_proba(test_feat_newMEDIAN)[:,1]\n",
    "\n",
    "i = 0\n",
    "for name in ['LABEL_Sepsis']:\n",
    "    Abgabe[name] = y_pred\n",
    "    i += 1"
   ]
  },
  {
   "cell_type": "code",
   "execution_count": 41,
   "id": "db47616c",
   "metadata": {},
   "outputs": [
    {
     "data": {
      "text/html": [
       "<div>\n",
       "<style scoped>\n",
       "    .dataframe tbody tr th:only-of-type {\n",
       "        vertical-align: middle;\n",
       "    }\n",
       "\n",
       "    .dataframe tbody tr th {\n",
       "        vertical-align: top;\n",
       "    }\n",
       "\n",
       "    .dataframe thead th {\n",
       "        text-align: right;\n",
       "    }\n",
       "</style>\n",
       "<table border=\"1\" class=\"dataframe\">\n",
       "  <thead>\n",
       "    <tr style=\"text-align: right;\">\n",
       "      <th></th>\n",
       "      <th>pid</th>\n",
       "      <th>LABEL_BaseExcess</th>\n",
       "      <th>LABEL_Fibrinogen</th>\n",
       "      <th>LABEL_AST</th>\n",
       "      <th>LABEL_Alkalinephos</th>\n",
       "      <th>LABEL_Bilirubin_total</th>\n",
       "      <th>LABEL_Lactate</th>\n",
       "      <th>LABEL_TroponinI</th>\n",
       "      <th>LABEL_SaO2</th>\n",
       "      <th>LABEL_Bilirubin_direct</th>\n",
       "      <th>LABEL_EtCO2</th>\n",
       "      <th>LABEL_Sepsis</th>\n",
       "    </tr>\n",
       "  </thead>\n",
       "  <tbody>\n",
       "    <tr>\n",
       "      <th>0</th>\n",
       "      <td>0</td>\n",
       "      <td>0.687805</td>\n",
       "      <td>0.318280</td>\n",
       "      <td>0.524469</td>\n",
       "      <td>0.515496</td>\n",
       "      <td>0.548625</td>\n",
       "      <td>0.437125</td>\n",
       "      <td>0.204836</td>\n",
       "      <td>0.478157</td>\n",
       "      <td>0.118534</td>\n",
       "      <td>0.270972</td>\n",
       "      <td>0.577528</td>\n",
       "    </tr>\n",
       "    <tr>\n",
       "      <th>1</th>\n",
       "      <td>10001</td>\n",
       "      <td>0.231506</td>\n",
       "      <td>0.079095</td>\n",
       "      <td>0.236839</td>\n",
       "      <td>0.227232</td>\n",
       "      <td>0.227024</td>\n",
       "      <td>0.139856</td>\n",
       "      <td>0.257358</td>\n",
       "      <td>0.149608</td>\n",
       "      <td>0.031097</td>\n",
       "      <td>0.213308</td>\n",
       "      <td>0.422182</td>\n",
       "    </tr>\n",
       "    <tr>\n",
       "      <th>2</th>\n",
       "      <td>10003</td>\n",
       "      <td>0.363535</td>\n",
       "      <td>0.080958</td>\n",
       "      <td>0.223436</td>\n",
       "      <td>0.209416</td>\n",
       "      <td>0.219718</td>\n",
       "      <td>0.330211</td>\n",
       "      <td>0.252053</td>\n",
       "      <td>0.394973</td>\n",
       "      <td>0.031106</td>\n",
       "      <td>0.304034</td>\n",
       "      <td>0.515058</td>\n",
       "    </tr>\n",
       "    <tr>\n",
       "      <th>3</th>\n",
       "      <td>10004</td>\n",
       "      <td>0.237828</td>\n",
       "      <td>0.081894</td>\n",
       "      <td>0.243527</td>\n",
       "      <td>0.266459</td>\n",
       "      <td>0.269292</td>\n",
       "      <td>0.144862</td>\n",
       "      <td>0.242821</td>\n",
       "      <td>0.155796</td>\n",
       "      <td>0.033697</td>\n",
       "      <td>0.232609</td>\n",
       "      <td>0.444790</td>\n",
       "    </tr>\n",
       "    <tr>\n",
       "      <th>4</th>\n",
       "      <td>10005</td>\n",
       "      <td>0.268636</td>\n",
       "      <td>0.094527</td>\n",
       "      <td>0.227558</td>\n",
       "      <td>0.230155</td>\n",
       "      <td>0.235986</td>\n",
       "      <td>0.172443</td>\n",
       "      <td>0.240407</td>\n",
       "      <td>0.172443</td>\n",
       "      <td>0.034967</td>\n",
       "      <td>0.195278</td>\n",
       "      <td>0.442168</td>\n",
       "    </tr>\n",
       "    <tr>\n",
       "      <th>...</th>\n",
       "      <td>...</td>\n",
       "      <td>...</td>\n",
       "      <td>...</td>\n",
       "      <td>...</td>\n",
       "      <td>...</td>\n",
       "      <td>...</td>\n",
       "      <td>...</td>\n",
       "      <td>...</td>\n",
       "      <td>...</td>\n",
       "      <td>...</td>\n",
       "      <td>...</td>\n",
       "      <td>...</td>\n",
       "    </tr>\n",
       "    <tr>\n",
       "      <th>12659</th>\n",
       "      <td>9989</td>\n",
       "      <td>0.240573</td>\n",
       "      <td>0.079210</td>\n",
       "      <td>0.239320</td>\n",
       "      <td>0.224343</td>\n",
       "      <td>0.223173</td>\n",
       "      <td>0.139749</td>\n",
       "      <td>0.242707</td>\n",
       "      <td>0.155667</td>\n",
       "      <td>0.030029</td>\n",
       "      <td>0.184959</td>\n",
       "      <td>0.439919</td>\n",
       "    </tr>\n",
       "    <tr>\n",
       "      <th>12660</th>\n",
       "      <td>9991</td>\n",
       "      <td>0.468270</td>\n",
       "      <td>0.157623</td>\n",
       "      <td>0.255545</td>\n",
       "      <td>0.223422</td>\n",
       "      <td>0.232805</td>\n",
       "      <td>0.330517</td>\n",
       "      <td>0.204062</td>\n",
       "      <td>0.383307</td>\n",
       "      <td>0.036061</td>\n",
       "      <td>0.287036</td>\n",
       "      <td>0.570043</td>\n",
       "    </tr>\n",
       "    <tr>\n",
       "      <th>12661</th>\n",
       "      <td>9992</td>\n",
       "      <td>0.453260</td>\n",
       "      <td>0.088798</td>\n",
       "      <td>0.209376</td>\n",
       "      <td>0.204776</td>\n",
       "      <td>0.206315</td>\n",
       "      <td>0.220475</td>\n",
       "      <td>0.204955</td>\n",
       "      <td>0.399602</td>\n",
       "      <td>0.033326</td>\n",
       "      <td>0.231635</td>\n",
       "      <td>0.481149</td>\n",
       "    </tr>\n",
       "    <tr>\n",
       "      <th>12662</th>\n",
       "      <td>9994</td>\n",
       "      <td>0.619040</td>\n",
       "      <td>0.227772</td>\n",
       "      <td>0.383777</td>\n",
       "      <td>0.399617</td>\n",
       "      <td>0.407132</td>\n",
       "      <td>0.535384</td>\n",
       "      <td>0.169620</td>\n",
       "      <td>0.554246</td>\n",
       "      <td>0.096520</td>\n",
       "      <td>0.258544</td>\n",
       "      <td>0.653616</td>\n",
       "    </tr>\n",
       "    <tr>\n",
       "      <th>12663</th>\n",
       "      <td>9997</td>\n",
       "      <td>0.493174</td>\n",
       "      <td>0.077592</td>\n",
       "      <td>0.217747</td>\n",
       "      <td>0.212576</td>\n",
       "      <td>0.217651</td>\n",
       "      <td>0.291016</td>\n",
       "      <td>0.210947</td>\n",
       "      <td>0.331536</td>\n",
       "      <td>0.030965</td>\n",
       "      <td>0.233933</td>\n",
       "      <td>0.502283</td>\n",
       "    </tr>\n",
       "  </tbody>\n",
       "</table>\n",
       "<p>12664 rows × 12 columns</p>\n",
       "</div>"
      ],
      "text/plain": [
       "         pid  LABEL_BaseExcess  LABEL_Fibrinogen  LABEL_AST  \\\n",
       "0          0          0.687805          0.318280   0.524469   \n",
       "1      10001          0.231506          0.079095   0.236839   \n",
       "2      10003          0.363535          0.080958   0.223436   \n",
       "3      10004          0.237828          0.081894   0.243527   \n",
       "4      10005          0.268636          0.094527   0.227558   \n",
       "...      ...               ...               ...        ...   \n",
       "12659   9989          0.240573          0.079210   0.239320   \n",
       "12660   9991          0.468270          0.157623   0.255545   \n",
       "12661   9992          0.453260          0.088798   0.209376   \n",
       "12662   9994          0.619040          0.227772   0.383777   \n",
       "12663   9997          0.493174          0.077592   0.217747   \n",
       "\n",
       "       LABEL_Alkalinephos  LABEL_Bilirubin_total  LABEL_Lactate  \\\n",
       "0                0.515496               0.548625       0.437125   \n",
       "1                0.227232               0.227024       0.139856   \n",
       "2                0.209416               0.219718       0.330211   \n",
       "3                0.266459               0.269292       0.144862   \n",
       "4                0.230155               0.235986       0.172443   \n",
       "...                   ...                    ...            ...   \n",
       "12659            0.224343               0.223173       0.139749   \n",
       "12660            0.223422               0.232805       0.330517   \n",
       "12661            0.204776               0.206315       0.220475   \n",
       "12662            0.399617               0.407132       0.535384   \n",
       "12663            0.212576               0.217651       0.291016   \n",
       "\n",
       "       LABEL_TroponinI  LABEL_SaO2  LABEL_Bilirubin_direct  LABEL_EtCO2  \\\n",
       "0             0.204836    0.478157                0.118534     0.270972   \n",
       "1             0.257358    0.149608                0.031097     0.213308   \n",
       "2             0.252053    0.394973                0.031106     0.304034   \n",
       "3             0.242821    0.155796                0.033697     0.232609   \n",
       "4             0.240407    0.172443                0.034967     0.195278   \n",
       "...                ...         ...                     ...          ...   \n",
       "12659         0.242707    0.155667                0.030029     0.184959   \n",
       "12660         0.204062    0.383307                0.036061     0.287036   \n",
       "12661         0.204955    0.399602                0.033326     0.231635   \n",
       "12662         0.169620    0.554246                0.096520     0.258544   \n",
       "12663         0.210947    0.331536                0.030965     0.233933   \n",
       "\n",
       "       LABEL_Sepsis  \n",
       "0          0.577528  \n",
       "1          0.422182  \n",
       "2          0.515058  \n",
       "3          0.444790  \n",
       "4          0.442168  \n",
       "...             ...  \n",
       "12659      0.439919  \n",
       "12660      0.570043  \n",
       "12661      0.481149  \n",
       "12662      0.653616  \n",
       "12663      0.502283  \n",
       "\n",
       "[12664 rows x 12 columns]"
      ]
     },
     "execution_count": 41,
     "metadata": {},
     "output_type": "execute_result"
    }
   ],
   "source": [
    "Abgabe"
   ]
  },
  {
   "cell_type": "markdown",
   "id": "6ef2b2fa",
   "metadata": {},
   "source": [
    "Subtask 3\n",
    "---"
   ]
  },
  {
   "cell_type": "code",
   "execution_count": 45,
   "id": "c9f3c95d",
   "metadata": {},
   "outputs": [
    {
     "data": {
      "text/plain": [
       "RandomForestRegressor(max_depth=3, random_state=0)"
      ]
     },
     "execution_count": 45,
     "metadata": {},
     "output_type": "execute_result"
    }
   ],
   "source": [
    "from sklearn.ensemble import RandomForestRegressor\n",
    "from sklearn.metrics import r2_score\n",
    "#Indeces 11, 12, 13, 14\n",
    "y = labels[2000:, 11]\n",
    "X = train_feat_new2MEDIAN[2000:]\n",
    "\n",
    "regr = RandomForestRegressor(max_depth=3, random_state=0)\n",
    "regr.fit(X, y)\n"
   ]
  },
  {
   "cell_type": "code",
   "execution_count": 46,
   "id": "e51f4550",
   "metadata": {},
   "outputs": [
    {
     "data": {
      "text/plain": [
       "0.39210751952953693"
      ]
     },
     "execution_count": 46,
     "metadata": {},
     "output_type": "execute_result"
    }
   ],
   "source": [
    "y_pred = regr.predict(train_feat_new2MEDIAN[:2000])\n",
    "loss = r2_score(labels[:2000, 11], y_pred)\n",
    "loss"
   ]
  },
  {
   "cell_type": "code",
   "execution_count": 50,
   "id": "672060c2",
   "metadata": {},
   "outputs": [],
   "source": [
    "from sklearn.multioutput import MultiOutputRegressor\n",
    "from sklearn.ensemble import RandomForestRegressor\n",
    "from sklearn.metrics import r2_score\n",
    "#Indeces 11, 12, 13, 14\n",
    "y = labels[:,11:]\n",
    "X = train_feat_new2MEDIAN[:]\n",
    "\n",
    "regr = RandomForestRegressor(max_depth=3, random_state=0)\n",
    "model = MultiOutputRegressor(regr).fit(X, y)"
   ]
  },
  {
   "cell_type": "code",
   "execution_count": 51,
   "id": "5937c721",
   "metadata": {},
   "outputs": [
    {
     "data": {
      "text/plain": [
       "array([0.39612445, 0.56457971, 0.35661703, 0.60444647])"
      ]
     },
     "execution_count": 51,
     "metadata": {},
     "output_type": "execute_result"
    }
   ],
   "source": [
    "y_pred = model.predict(train_feat_new2MEDIAN[:2000])\n",
    "loss = r2_score(labels[:2000, 11:], y_pred, multioutput='raw_values')\n",
    "loss"
   ]
  },
  {
   "cell_type": "code",
   "execution_count": 52,
   "id": "b3f46ec5",
   "metadata": {},
   "outputs": [],
   "source": [
    "y_pred = model.predict(test_feat_newMEDIAN)\n",
    "\n",
    "i = 0\n",
    "for name in ['LABEL_RRate','LABEL_ABPm','LABEL_SpO2','LABEL_Heartrate']:\n",
    "    Abgabe[name] = y_pred[:,i]\n",
    "    i += 1"
   ]
  },
  {
   "cell_type": "code",
   "execution_count": 53,
   "id": "577aeb14",
   "metadata": {},
   "outputs": [
    {
     "data": {
      "text/html": [
       "<div>\n",
       "<style scoped>\n",
       "    .dataframe tbody tr th:only-of-type {\n",
       "        vertical-align: middle;\n",
       "    }\n",
       "\n",
       "    .dataframe tbody tr th {\n",
       "        vertical-align: top;\n",
       "    }\n",
       "\n",
       "    .dataframe thead th {\n",
       "        text-align: right;\n",
       "    }\n",
       "</style>\n",
       "<table border=\"1\" class=\"dataframe\">\n",
       "  <thead>\n",
       "    <tr style=\"text-align: right;\">\n",
       "      <th></th>\n",
       "      <th>pid</th>\n",
       "      <th>LABEL_BaseExcess</th>\n",
       "      <th>LABEL_Fibrinogen</th>\n",
       "      <th>LABEL_AST</th>\n",
       "      <th>LABEL_Alkalinephos</th>\n",
       "      <th>LABEL_Bilirubin_total</th>\n",
       "      <th>LABEL_Lactate</th>\n",
       "      <th>LABEL_TroponinI</th>\n",
       "      <th>LABEL_SaO2</th>\n",
       "      <th>LABEL_Bilirubin_direct</th>\n",
       "      <th>LABEL_EtCO2</th>\n",
       "      <th>LABEL_Sepsis</th>\n",
       "      <th>LABEL_RRate</th>\n",
       "      <th>LABEL_ABPm</th>\n",
       "      <th>LABEL_SpO2</th>\n",
       "      <th>LABEL_Heartrate</th>\n",
       "    </tr>\n",
       "  </thead>\n",
       "  <tbody>\n",
       "    <tr>\n",
       "      <th>0</th>\n",
       "      <td>0</td>\n",
       "      <td>0.687805</td>\n",
       "      <td>0.318280</td>\n",
       "      <td>0.524469</td>\n",
       "      <td>0.515496</td>\n",
       "      <td>0.548625</td>\n",
       "      <td>0.437125</td>\n",
       "      <td>0.204836</td>\n",
       "      <td>0.478157</td>\n",
       "      <td>0.118534</td>\n",
       "      <td>0.270972</td>\n",
       "      <td>0.577528</td>\n",
       "      <td>15.414150</td>\n",
       "      <td>82.965146</td>\n",
       "      <td>98.523316</td>\n",
       "      <td>83.437676</td>\n",
       "    </tr>\n",
       "    <tr>\n",
       "      <th>1</th>\n",
       "      <td>10001</td>\n",
       "      <td>0.231506</td>\n",
       "      <td>0.079095</td>\n",
       "      <td>0.236839</td>\n",
       "      <td>0.227232</td>\n",
       "      <td>0.227024</td>\n",
       "      <td>0.139856</td>\n",
       "      <td>0.257358</td>\n",
       "      <td>0.149608</td>\n",
       "      <td>0.031097</td>\n",
       "      <td>0.213308</td>\n",
       "      <td>0.422182</td>\n",
       "      <td>18.038728</td>\n",
       "      <td>88.444578</td>\n",
       "      <td>95.366078</td>\n",
       "      <td>100.701171</td>\n",
       "    </tr>\n",
       "    <tr>\n",
       "      <th>2</th>\n",
       "      <td>10003</td>\n",
       "      <td>0.363535</td>\n",
       "      <td>0.080958</td>\n",
       "      <td>0.223436</td>\n",
       "      <td>0.209416</td>\n",
       "      <td>0.219718</td>\n",
       "      <td>0.330211</td>\n",
       "      <td>0.252053</td>\n",
       "      <td>0.394973</td>\n",
       "      <td>0.031106</td>\n",
       "      <td>0.304034</td>\n",
       "      <td>0.515058</td>\n",
       "      <td>18.096691</td>\n",
       "      <td>82.965146</td>\n",
       "      <td>98.039600</td>\n",
       "      <td>88.547777</td>\n",
       "    </tr>\n",
       "    <tr>\n",
       "      <th>3</th>\n",
       "      <td>10004</td>\n",
       "      <td>0.237828</td>\n",
       "      <td>0.081894</td>\n",
       "      <td>0.243527</td>\n",
       "      <td>0.266459</td>\n",
       "      <td>0.269292</td>\n",
       "      <td>0.144862</td>\n",
       "      <td>0.242821</td>\n",
       "      <td>0.155796</td>\n",
       "      <td>0.033697</td>\n",
       "      <td>0.232609</td>\n",
       "      <td>0.444790</td>\n",
       "      <td>16.784511</td>\n",
       "      <td>73.406817</td>\n",
       "      <td>95.964119</td>\n",
       "      <td>87.419994</td>\n",
       "    </tr>\n",
       "    <tr>\n",
       "      <th>4</th>\n",
       "      <td>10005</td>\n",
       "      <td>0.268636</td>\n",
       "      <td>0.094527</td>\n",
       "      <td>0.227558</td>\n",
       "      <td>0.230155</td>\n",
       "      <td>0.235986</td>\n",
       "      <td>0.172443</td>\n",
       "      <td>0.240407</td>\n",
       "      <td>0.172443</td>\n",
       "      <td>0.034967</td>\n",
       "      <td>0.195278</td>\n",
       "      <td>0.442168</td>\n",
       "      <td>19.222381</td>\n",
       "      <td>74.189418</td>\n",
       "      <td>95.964119</td>\n",
       "      <td>63.056140</td>\n",
       "    </tr>\n",
       "    <tr>\n",
       "      <th>...</th>\n",
       "      <td>...</td>\n",
       "      <td>...</td>\n",
       "      <td>...</td>\n",
       "      <td>...</td>\n",
       "      <td>...</td>\n",
       "      <td>...</td>\n",
       "      <td>...</td>\n",
       "      <td>...</td>\n",
       "      <td>...</td>\n",
       "      <td>...</td>\n",
       "      <td>...</td>\n",
       "      <td>...</td>\n",
       "      <td>...</td>\n",
       "      <td>...</td>\n",
       "      <td>...</td>\n",
       "      <td>...</td>\n",
       "    </tr>\n",
       "    <tr>\n",
       "      <th>12659</th>\n",
       "      <td>9989</td>\n",
       "      <td>0.240573</td>\n",
       "      <td>0.079210</td>\n",
       "      <td>0.239320</td>\n",
       "      <td>0.224343</td>\n",
       "      <td>0.223173</td>\n",
       "      <td>0.139749</td>\n",
       "      <td>0.242707</td>\n",
       "      <td>0.155667</td>\n",
       "      <td>0.030029</td>\n",
       "      <td>0.184959</td>\n",
       "      <td>0.439919</td>\n",
       "      <td>19.962176</td>\n",
       "      <td>78.585229</td>\n",
       "      <td>95.943396</td>\n",
       "      <td>100.701171</td>\n",
       "    </tr>\n",
       "    <tr>\n",
       "      <th>12660</th>\n",
       "      <td>9991</td>\n",
       "      <td>0.468270</td>\n",
       "      <td>0.157623</td>\n",
       "      <td>0.255545</td>\n",
       "      <td>0.223422</td>\n",
       "      <td>0.232805</td>\n",
       "      <td>0.330517</td>\n",
       "      <td>0.204062</td>\n",
       "      <td>0.383307</td>\n",
       "      <td>0.036061</td>\n",
       "      <td>0.287036</td>\n",
       "      <td>0.570043</td>\n",
       "      <td>18.936108</td>\n",
       "      <td>94.052680</td>\n",
       "      <td>98.523316</td>\n",
       "      <td>71.774080</td>\n",
       "    </tr>\n",
       "    <tr>\n",
       "      <th>12661</th>\n",
       "      <td>9992</td>\n",
       "      <td>0.453260</td>\n",
       "      <td>0.088798</td>\n",
       "      <td>0.209376</td>\n",
       "      <td>0.204776</td>\n",
       "      <td>0.206315</td>\n",
       "      <td>0.220475</td>\n",
       "      <td>0.204955</td>\n",
       "      <td>0.399602</td>\n",
       "      <td>0.033326</td>\n",
       "      <td>0.231635</td>\n",
       "      <td>0.481149</td>\n",
       "      <td>18.156609</td>\n",
       "      <td>68.112892</td>\n",
       "      <td>97.168874</td>\n",
       "      <td>82.799609</td>\n",
       "    </tr>\n",
       "    <tr>\n",
       "      <th>12662</th>\n",
       "      <td>9994</td>\n",
       "      <td>0.619040</td>\n",
       "      <td>0.227772</td>\n",
       "      <td>0.383777</td>\n",
       "      <td>0.399617</td>\n",
       "      <td>0.407132</td>\n",
       "      <td>0.535384</td>\n",
       "      <td>0.169620</td>\n",
       "      <td>0.554246</td>\n",
       "      <td>0.096520</td>\n",
       "      <td>0.258544</td>\n",
       "      <td>0.653616</td>\n",
       "      <td>16.448308</td>\n",
       "      <td>88.444578</td>\n",
       "      <td>98.523316</td>\n",
       "      <td>95.510223</td>\n",
       "    </tr>\n",
       "    <tr>\n",
       "      <th>12663</th>\n",
       "      <td>9997</td>\n",
       "      <td>0.493174</td>\n",
       "      <td>0.077592</td>\n",
       "      <td>0.217747</td>\n",
       "      <td>0.212576</td>\n",
       "      <td>0.217651</td>\n",
       "      <td>0.291016</td>\n",
       "      <td>0.210947</td>\n",
       "      <td>0.331536</td>\n",
       "      <td>0.030965</td>\n",
       "      <td>0.233933</td>\n",
       "      <td>0.502283</td>\n",
       "      <td>18.038728</td>\n",
       "      <td>76.637485</td>\n",
       "      <td>98.052568</td>\n",
       "      <td>86.910614</td>\n",
       "    </tr>\n",
       "  </tbody>\n",
       "</table>\n",
       "<p>12664 rows × 16 columns</p>\n",
       "</div>"
      ],
      "text/plain": [
       "         pid  LABEL_BaseExcess  LABEL_Fibrinogen  LABEL_AST  \\\n",
       "0          0          0.687805          0.318280   0.524469   \n",
       "1      10001          0.231506          0.079095   0.236839   \n",
       "2      10003          0.363535          0.080958   0.223436   \n",
       "3      10004          0.237828          0.081894   0.243527   \n",
       "4      10005          0.268636          0.094527   0.227558   \n",
       "...      ...               ...               ...        ...   \n",
       "12659   9989          0.240573          0.079210   0.239320   \n",
       "12660   9991          0.468270          0.157623   0.255545   \n",
       "12661   9992          0.453260          0.088798   0.209376   \n",
       "12662   9994          0.619040          0.227772   0.383777   \n",
       "12663   9997          0.493174          0.077592   0.217747   \n",
       "\n",
       "       LABEL_Alkalinephos  LABEL_Bilirubin_total  LABEL_Lactate  \\\n",
       "0                0.515496               0.548625       0.437125   \n",
       "1                0.227232               0.227024       0.139856   \n",
       "2                0.209416               0.219718       0.330211   \n",
       "3                0.266459               0.269292       0.144862   \n",
       "4                0.230155               0.235986       0.172443   \n",
       "...                   ...                    ...            ...   \n",
       "12659            0.224343               0.223173       0.139749   \n",
       "12660            0.223422               0.232805       0.330517   \n",
       "12661            0.204776               0.206315       0.220475   \n",
       "12662            0.399617               0.407132       0.535384   \n",
       "12663            0.212576               0.217651       0.291016   \n",
       "\n",
       "       LABEL_TroponinI  LABEL_SaO2  LABEL_Bilirubin_direct  LABEL_EtCO2  \\\n",
       "0             0.204836    0.478157                0.118534     0.270972   \n",
       "1             0.257358    0.149608                0.031097     0.213308   \n",
       "2             0.252053    0.394973                0.031106     0.304034   \n",
       "3             0.242821    0.155796                0.033697     0.232609   \n",
       "4             0.240407    0.172443                0.034967     0.195278   \n",
       "...                ...         ...                     ...          ...   \n",
       "12659         0.242707    0.155667                0.030029     0.184959   \n",
       "12660         0.204062    0.383307                0.036061     0.287036   \n",
       "12661         0.204955    0.399602                0.033326     0.231635   \n",
       "12662         0.169620    0.554246                0.096520     0.258544   \n",
       "12663         0.210947    0.331536                0.030965     0.233933   \n",
       "\n",
       "       LABEL_Sepsis  LABEL_RRate  LABEL_ABPm  LABEL_SpO2  LABEL_Heartrate  \n",
       "0          0.577528    15.414150   82.965146   98.523316        83.437676  \n",
       "1          0.422182    18.038728   88.444578   95.366078       100.701171  \n",
       "2          0.515058    18.096691   82.965146   98.039600        88.547777  \n",
       "3          0.444790    16.784511   73.406817   95.964119        87.419994  \n",
       "4          0.442168    19.222381   74.189418   95.964119        63.056140  \n",
       "...             ...          ...         ...         ...              ...  \n",
       "12659      0.439919    19.962176   78.585229   95.943396       100.701171  \n",
       "12660      0.570043    18.936108   94.052680   98.523316        71.774080  \n",
       "12661      0.481149    18.156609   68.112892   97.168874        82.799609  \n",
       "12662      0.653616    16.448308   88.444578   98.523316        95.510223  \n",
       "12663      0.502283    18.038728   76.637485   98.052568        86.910614  \n",
       "\n",
       "[12664 rows x 16 columns]"
      ]
     },
     "execution_count": 53,
     "metadata": {},
     "output_type": "execute_result"
    }
   ],
   "source": [
    "Abgabe"
   ]
  },
  {
   "cell_type": "code",
   "execution_count": 54,
   "id": "2be9a46d",
   "metadata": {},
   "outputs": [],
   "source": [
    "import pandas as pd\n",
    "\n",
    "# suppose df is a pandas dataframe containing the result\n",
    "Abgabe.to_csv('prediction_Jan_Eric.zip', index=False, float_format='%.3f', compression='zip')"
   ]
  },
  {
   "cell_type": "code",
   "execution_count": null,
   "id": "b3c77e0b",
   "metadata": {},
   "outputs": [],
   "source": []
  }
 ],
 "metadata": {
  "kernelspec": {
   "display_name": "Python 3 (ipykernel)",
   "language": "python",
   "name": "python3"
  },
  "language_info": {
   "codemirror_mode": {
    "name": "ipython",
    "version": 3
   },
   "file_extension": ".py",
   "mimetype": "text/x-python",
   "name": "python",
   "nbconvert_exporter": "python",
   "pygments_lexer": "ipython3",
   "version": "3.8.12"
  }
 },
 "nbformat": 4,
 "nbformat_minor": 5
}
